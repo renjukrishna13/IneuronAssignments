{
 "cells": [
  {
   "cell_type": "code",
   "execution_count": 27,
   "metadata": {},
   "outputs": [
    {
     "ename": "ModuleNotFoundError",
     "evalue": "No module named 'stats'",
     "output_type": "error",
     "traceback": [
      "\u001b[1;31m---------------------------------------------------------------------------\u001b[0m",
      "\u001b[1;31mModuleNotFoundError\u001b[0m                       Traceback (most recent call last)",
      "\u001b[1;32m<ipython-input-27-eccf47fda196>\u001b[0m in \u001b[0;36m<module>\u001b[1;34m\u001b[0m\n\u001b[0;32m      4\u001b[0m \u001b[1;32mimport\u001b[0m \u001b[0mmatplotlib\u001b[0m\u001b[1;33m.\u001b[0m\u001b[0mpyplot\u001b[0m \u001b[1;32mas\u001b[0m \u001b[0mplt\u001b[0m\u001b[1;33m\u001b[0m\u001b[1;33m\u001b[0m\u001b[0m\n\u001b[0;32m      5\u001b[0m \u001b[1;32mimport\u001b[0m \u001b[0mseaborn\u001b[0m \u001b[1;32mas\u001b[0m \u001b[0msns\u001b[0m\u001b[1;33m\u001b[0m\u001b[1;33m\u001b[0m\u001b[0m\n\u001b[1;32m----> 6\u001b[1;33m \u001b[1;32mimport\u001b[0m \u001b[0mstats\u001b[0m \u001b[1;32mas\u001b[0m \u001b[0mst\u001b[0m\u001b[1;33m\u001b[0m\u001b[1;33m\u001b[0m\u001b[0m\n\u001b[0m",
      "\u001b[1;31mModuleNotFoundError\u001b[0m: No module named 'stats'"
     ]
    }
   ],
   "source": [
    "import numpy as np\n",
    "from scipy import stats\n",
    "import scipy.integrate as integrate\n",
    "import matplotlib.pyplot as plt\n",
    "import seaborn as sns\n"
   ]
  },
  {
   "cell_type": "markdown",
   "metadata": {},
   "source": [
    "### Calculate the mean, median, mode and standard deviation for the problem\n",
    "### statements 1& 2."
   ]
  },
  {
   "cell_type": "markdown",
   "metadata": {},
   "source": [
    "#### Problem Statement 1:\n",
    "\n",
    "The marks awarded for an assignment set for a Year 8 class of 20 students were as\n",
    "follows:\n",
    "6 7 5 7 7 8 7 6 9 7 4 10 6 8 8 9 5 6 4 8"
   ]
  },
  {
   "cell_type": "code",
   "execution_count": 5,
   "metadata": {},
   "outputs": [],
   "source": [
    "marks = [6,7,5,7,7,8,7,6,9,7,4,10,6,8,8,9,5,6,4,8]"
   ]
  },
  {
   "cell_type": "code",
   "execution_count": 6,
   "metadata": {},
   "outputs": [
    {
     "name": "stdout",
     "output_type": "stream",
     "text": [
      "Mean of marks =  6.85\n",
      "Median of marks =  7.0\n"
     ]
    }
   ],
   "source": [
    "print(\"Mean of marks = \",np.mean(marks) )\n",
    "print(\"Median of marks = \",np.median(marks) )\n"
   ]
  },
  {
   "cell_type": "code",
   "execution_count": 7,
   "metadata": {},
   "outputs": [
    {
     "name": "stdout",
     "output_type": "stream",
     "text": [
      "Mode of marks =  [7]\n"
     ]
    }
   ],
   "source": [
    "print(\"Mode of marks = \",stats.mode(marks)[0])"
   ]
  },
  {
   "cell_type": "markdown",
   "metadata": {},
   "source": [
    "#### Problem Statement 2:\n",
    "\n",
    "The number of calls from motorists per day for roadside service was recorded for a\n",
    "particular month:\n",
    "28, 122, 217, 130, 120, 86, 80, 90, 140, 120, 70, 40, 145, 113, 90, 68, 174, 194, 170,\n",
    "100, 75, 104, 97, 75,\n",
    "123, 100, 75, 104, 97, 75, 123, 100, 89, 120, 109"
   ]
  },
  {
   "cell_type": "code",
   "execution_count": 8,
   "metadata": {},
   "outputs": [],
   "source": [
    "calls_per_month = [28, 122, 217, 130, 120, 86, 80, 90, 140, 120, 70, 40, 145, 113, 90, 68, 174, 194, 170, 100, 75, 104, 97, 75, 123, 100, 75, 104, 97, 75, 123, 100, 89, 120, 109]"
   ]
  },
  {
   "cell_type": "code",
   "execution_count": 9,
   "metadata": {},
   "outputs": [
    {
     "name": "stdout",
     "output_type": "stream",
     "text": [
      "Mean of calls=  107.51428571428572\n",
      "Median of calls=  100.0\n",
      "Mode of calls =  [75]\n"
     ]
    }
   ],
   "source": [
    "print(\"Mean of calls= \",np.mean(calls_per_month) )\n",
    "print(\"Median of calls= \",np.median(calls_per_month) )\n",
    "print(\"Mode of calls = \",stats.mode(calls_per_month)[0])"
   ]
  },
  {
   "cell_type": "markdown",
   "metadata": {},
   "source": [
    "#### Problem Statement 3:\n",
    "The number of times I go to the gym in weekdays, are given below along with its\n",
    "associated probability:\n",
    "x = 0, 1, 2, 3, 4, 5\n",
    "f(x) = 0.09, 0.15, 0.40, 0.25, 0.10, 0.01\n",
    "Calculate the mean no. of workouts in a week. Also evaluate the variance involved in\n",
    "it."
   ]
  },
  {
   "cell_type": "code",
   "execution_count": 37,
   "metadata": {},
   "outputs": [
    {
     "name": "stdout",
     "output_type": "stream",
     "text": [
      "Mean no of workouts =  2.15\n",
      "Variance of workouts =  1.2275\n"
     ]
    }
   ],
   "source": [
    "x = np.array([0, 1, 2, 3, 4, 5])\n",
    "probs = np.array([.09, 0.15, 0.40, 0.25, 0.10, 0.01])\n",
    "workouts = x*probs\n",
    "mean = np.sum(workouts)\n",
    "print(\"Mean no of workouts = \",mean)\n",
    "var = 0\n",
    "for i,j in zip(x,probs):\n",
    "    var = var + ((i-mean)**2)*j\n",
    "print(\"Variance of workouts = \",var)"
   ]
  },
  {
   "cell_type": "markdown",
   "metadata": {},
   "source": [
    "#### Problem Statement 4:\n",
    "\n",
    "Let the continuous random variable D denote the diameter of the hole drilled in an aluminum sheet. The target diameter to be achieved is 12.5mm. Random disturbances in the process often result in inaccuracy.Historical data shows that the distribution of D can be modelled by the PDF (d) = 20e−20(d−12.5), d ≥ 12.5. If a part with diameter > 12.6 mm needs to be scrapped,\n",
    "what is the proportion of those parts? What is the CDF when the diameter is of 11\n",
    "mm? What is your conclusion regarding the proportion of scraps?"
   ]
  },
  {
   "cell_type": "code",
   "execution_count": 58,
   "metadata": {},
   "outputs": [
    {
     "name": "stdout",
     "output_type": "stream",
     "text": [
      "1) Proportion of parts with diameter greater than 12.6 is :  0.13533528323661398\n",
      "2) The cdf when the diameter is of 11mm is zero\n",
      "3) The proportion of the parts between 12.5 and 12.6 is: 0.8646647167633718\n",
      "4) Sum of proportions between 12.5 and 12.6 and the one greater than 12.6 is : 0.9999999999999858\n",
      "5) Sum of the proportion of the parts between 12.5 and 12.6 and proportion of the parts greater than 12.6 is 1,which indicates that the proportion of the parts less than 12.5 is 0.This also indicates that in majority of the cases , the amont to be scrapped is minimal as most of the cases lies between 12.5 and 12.6\n"
     ]
    }
   ],
   "source": [
    "### Defining the probability density function with continous random variable 'd' as given \n",
    "\n",
    "def prob_density_function(d):\n",
    "    return 20*np.exp(-20*(d-12.5))\n",
    "\n",
    "#To find the proportion of parts greater than 12.6mm, ie P(X>12.6), we need to integrate the pdf equation from limits \n",
    "#12.6 to infinity\n",
    "\n",
    "prop_gt = integrate.quad(prob_density_function,a=12.6,b=np.inf)[0]\n",
    "print(\"1) Proportion of parts with diameter greater than 12.6 is : \",prop_gt)\n",
    "\n",
    "#CDF when diameter is 11mm is-->If d<12.5, pdf(d)=0\n",
    "print(\"2) The cdf when the diameter is of 11mm is zero\")\n",
    "\n",
    "#Proportion of parts between 12.5 and 12.6\n",
    "prop_bet = integrate.quad(prob_density_function,a=12.5,b=12.6)[0]\n",
    "print(\"3) The proportion of the parts between 12.5 and 12.6 is:\",prop_bet)\n",
    "\n",
    "print(\"4) Sum of proportions between 12.5 and 12.6 and the one greater than 12.6 is :\",prop_gt+prop_bet)\n",
    "print(\"5) Sum of the proportion of the parts between 12.5 and 12.6 and proportion of the parts greater than 12.6 is 1,which indicates that the proportion of the parts less than 12.5 is 0.This also indicates that in majority of the cases , the amont to be scrapped is minimal as most of the cases lies between 12.5 and 12.6\")"
   ]
  },
  {
   "cell_type": "markdown",
   "metadata": {},
   "source": [
    "#### Problem Statement 5:\n",
    "\n",
    "A company manufactures LED bulbs with a faulty rate of 30%. If I randomly select 6\n",
    "chosen LEDs, what is the probability of having 2 faulty LEDs in my sample?\n",
    "Calculate the average value of this process. Also evaluate the standard deviation\n",
    "associated with it."
   ]
  },
  {
   "cell_type": "code",
   "execution_count": 71,
   "metadata": {},
   "outputs": [
    {
     "name": "stdout",
     "output_type": "stream",
     "text": [
      "Probability of having two faulty LEDs : 0.32097\n",
      "Mean: 1.79554\n",
      "Standard deviation: 1.1210335001238811\n"
     ]
    }
   ],
   "source": [
    "fault_rate = 0.3\n",
    "n=6\n",
    "trials = 100000\n",
    "binom = np.random.binomial(n,fault_rate,trials)\n",
    "no_of_2_faulty = np.sum(binom==2)\n",
    "prob_no_of_2_faulty = no_of_2_faulty/trials\n",
    "mean = binom.mean()\n",
    "std_deviation = binom.std()\n",
    "print(\"Probability of having two faulty LEDs :\",prob_no_of_2_faulty)\n",
    "print(\"Mean:\",mean)\n",
    "print(\"Standard deviation:\",std_deviation)"
   ]
  },
  {
   "cell_type": "markdown",
   "metadata": {},
   "source": [
    "#### Problem Statement 6:\n",
    "\n",
    "Gaurav and Barakha are both preparing for entrance exams. Gaurav attempts to\n",
    "solve 8 questions per day with a correction rate of 75%, while Barakha averages\n",
    "around 12 questions per day with a correction rate of 45%. What is the probability\n",
    "that each of them will solve 5 questions correctly? What happens in cases of 4 and 6\n",
    "correct solutions? What do you infer from it? What are the two main governing\n",
    "factors affecting their ability to solve questions correctly? Give a pictorial\n",
    "representation of the same to validate your answer."
   ]
  },
  {
   "cell_type": "code",
   "execution_count": 10,
   "metadata": {},
   "outputs": [
    {
     "name": "stdout",
     "output_type": "stream",
     "text": [
      "Probability of Gaurav solving 5 questions correctly: 0.2067\n",
      "Probability of Barkha solving 5 questions correctly: 0.2196\n",
      "Probability of Gaurav solving 4 questions correctly: 0.0806\n",
      "Probability of Barkha solving 4 questions correctly: 0.1703\n",
      "Probability of Gaurav solving 6 questions correctly: 0.3199\n",
      "Probability of Barkha solving 6 questions correctly: 0.2141\n",
      "Mean and stdv in case of Gaurav :  (6.0229, 1.2134972558683434)\n",
      "Mean and stdv in case of Barkha :  (5.4258, 1.7334631118082668)\n",
      "Gaurav attends less number of questions but he gets more correct answers,that is he spends more time on a question and gets an average of 6 correct answers.While Barkha attempts more questions to achieve this.\n"
     ]
    },
    {
     "data": {
      "image/png": "[encoded data removed]",
      "text/plain": [
       "<Figure size 432x288 with 1 Axes>"
      ]
     },
     "metadata": {
      "needs_background": "light"
     },
     "output_type": "display_data"
    }
   ],
   "source": [
    "trials = 10000\n",
    "#Defining the binomial distribution for gaurav\n",
    "binom_distri_gaurav = np.random.binomial(8,0.75,trials)\n",
    "#Defining the binomial distribution for Barkha\n",
    "binom_distri_barkha = np.random.binomial(12,0.45,trials)\n",
    "\n",
    "prob_gaurav = []\n",
    "prob_barkha = []\n",
    "\n",
    "for i in range(9):\n",
    "    prob_gaurav.append(np.sum(binom_distri_gaurav==i)/trials)    \n",
    "    prob_barkha.append(np.sum(binom_distri_barkha==i)/trials)\n",
    "    \n",
    "print(\"Probability of Gaurav solving 5 questions correctly:\",prob_gaurav[5])\n",
    "print(\"Probability of Barkha solving 5 questions correctly:\",prob_barkha[5])\n",
    "print(\"Probability of Gaurav solving 4 questions correctly:\",prob_gaurav[4])\n",
    "print(\"Probability of Barkha solving 4 questions correctly:\",prob_barkha[4])\n",
    "print(\"Probability of Gaurav solving 6 questions correctly:\",prob_gaurav[6])\n",
    "print(\"Probability of Barkha solving 6 questions correctly:\",prob_barkha[6])\n",
    "\n",
    "\n",
    "x = [i for i in range(9)]\n",
    "plt.plot(x,prob_gaurav,label=\"Gaurav\")\n",
    "plt.plot(x,prob_barkha,label='Barkha')\n",
    "plt.xlabel(\"Number of correct questions\")\n",
    "plt.ylabel(\"Probability\")\n",
    "plt.figlegend()\n",
    "plt.title(\"Probability distribution of gaurav and Barkha \")\n",
    "\n",
    "print(\"Mean and stdv in case of Gaurav : \",(binom_distri_gaurav.mean(),binom_distri_gaurav.std()))\n",
    "print(\"Mean and stdv in case of Barkha : \",(binom_distri_barkha.mean(),binom_distri_barkha.std()))\n",
    "\n",
    "print(\"Gaurav attends less number of questions but he gets more correct answers,that is he spends more time on a question and gets an average of 6 correct answers.While Barkha attempts more questions to achieve this.\")"
   ]
  },
  {
   "cell_type": "markdown",
   "metadata": {},
   "source": [
    "#### Problem Statement 7:\n",
    "\n",
    "Customers arrive at a rate of 72 per hour to my shop. What is the probability of k\n",
    "customers arriving in 4 minutes? a) 5 customers, b) not more than 3 customers, c)\n",
    "more than 3 customers. Give a pictorial representation of the same to validate your\n",
    "answer."
   ]
  },
  {
   "cell_type": "code",
   "execution_count": 20,
   "metadata": {},
   "outputs": [
    {
     "name": "stdout",
     "output_type": "stream",
     "text": [
      "The probability of 5 customers arriving is 0.1746\n",
      "The probability of not more than 3 customers is :0.2949\n",
      "The probability of more than 3 customers is 0.7051\n"
     ]
    },
    {
     "name": "stderr",
     "output_type": "stream",
     "text": [
      "C:\\Users\\USER\\Anaconda3\\lib\\site-packages\\scipy\\stats\\stats.py:1713: FutureWarning: Using a non-tuple sequence for multidimensional indexing is deprecated; use `arr[tuple(seq)]` instead of `arr[seq]`. In the future this will be interpreted as an array index, `arr[np.array(seq)]`, which will result either in an error or a different result.\n",
      "  return np.add.reduce(sorted[indexer] * weights, axis=axis) / sumval\n"
     ]
    },
    {
     "data": {
      "text/plain": [
       "<matplotlib.axes._subplots.AxesSubplot at 0x22851dc5da0>"
      ]
     },
     "execution_count": 20,
     "metadata": {},
     "output_type": "execute_result"
    },
    {
     "data": {
      "image/png": "[encoded data removed]",
      "text/plain": [
       "<Figure size 432x288 with 1 Axes>"
      ]
     },
     "metadata": {
      "needs_background": "light"
     },
     "output_type": "display_data"
    }
   ],
   "source": [
    "rate_4mins=(72/60)*4\n",
    "trials = 10000\n",
    "dist=np.random.poisson(rate_4mins,trials)\n",
    "prob_5=np.sum(dist==5)/trials\n",
    "prob_less_than_3=np.sum(dist<=3)/trials\n",
    "prob_more_3=np.sum(dist>3)/trials\n",
    "print(\"The probability of 5 customers arriving is {}\".format(prob_5))\n",
    "print('The probability of not more than 3 customers is :{}'.format(prob_less_than_3))\n",
    "print(\"The probability of more than 3 customers is {}\".format(prob_more_3))\n",
    "sns.distplot(dist,color='red',kde=True,hist=False)"
   ]
  },
  {
   "cell_type": "markdown",
   "metadata": {},
   "source": [
    "#### Problem Statement 8:\n",
    "\n",
    "I work as a data analyst in Aeon Learning Pvt. Ltd. After analyzing data, I make\n",
    "reports, where I have the efficiency of entering 77 words per minute with 6 errors per\n",
    "hour. What is the probability that I will commit 2 errors in a 455-word financial report?\n",
    "What happens when the no. of words increases/decreases (in case of 1000 words,\n",
    "255 words)?"
   ]
  },
  {
   "cell_type": "code",
   "execution_count": 26,
   "metadata": {},
   "outputs": [
    {
     "name": "stdout",
     "output_type": "stream",
     "text": [
      "Probability to commit 2 errors in a 455-word financial report =  0.0955\n",
      "Probability to commit 2 errors in a 255-word financial report =  0.0414\n",
      "Probability to commit 2 errors in a 1000-word financial report =  0.2308\n",
      "As depicted in the figure the probability of errors increases as the word length increases\n"
     ]
    },
    {
     "data": {
      "image/png": "[encoded data removed]",
      "text/plain": [
       "<Figure size 432x288 with 1 Axes>"
      ]
     },
     "metadata": {
      "needs_background": "light"
     },
     "output_type": "display_data"
    }
   ],
   "source": [
    "error_rate = 6/60\n",
    "trials = 10000\n",
    "\n",
    "#Test cases of financial reports of different word lengths\n",
    "\n",
    "report_lengths = [50,100,255,455,1000,1500,2000]\n",
    "\n",
    "#calculate probability of 2 errors in each of the reports\n",
    "probabilities = []\n",
    "for i in report_lengths:\n",
    "    lambda_function   = (i/77)*error_rate\n",
    "    distribution = np.random.poisson(lambda_function,trials)\n",
    "    prob_2_errors = np.sum(distribution==2)/trials\n",
    "    probabilities.append(prob_2_errors)\n",
    "\n",
    "print(\"Probability to commit 2 errors in a 455-word financial report = \",probabilities[3])\n",
    "print(\"Probability to commit 2 errors in a 255-word financial report = \",probabilities[2])\n",
    "print(\"Probability to commit 2 errors in a 1000-word financial report = \",probabilities[4])\n",
    "plt.plot(report_lengths,probabilities)\n",
    "plt.xlabel(\"word length of different reports\")\n",
    "plt.ylabel(\"Probability of commiting 2 errors\")\n",
    "\n",
    "print(\"As depicted in the figure the probability of errors increases as the word length increases\")"
   ]
  },
  {
   "cell_type": "markdown",
   "metadata": {},
   "source": [
    "#### Problem Statement 9:\n",
    "\n",
    "Let the continuous random variable D denote the diameter of the hole drilled in an\n",
    "aluminum sheet. The target diameter to be achieved is 12.5mm. Random\n",
    "disturbances in the process often result in inaccuracy.\n",
    "Historical data shows that the distribution of D can be modelled by the PDF, f(d) =\n",
    "20e−20(d−12.5), d ≥ 12.5. If a part with diameter > 12.6 mm needs to be scrapped,\n",
    "what is the proportion of those parts? What is the CDF when the diameter is of 11\n",
    "mm?\n",
    "What is the conclusion of this experiment?"
   ]
  },
  {
   "cell_type": "markdown",
   "metadata": {},
   "source": [
    "##### Check Problem statement 4 for the answer"
   ]
  },
  {
   "cell_type": "markdown",
   "metadata": {},
   "source": [
    "#### Problem Statement 10:\n",
    "\n",
    "Please compute the following:\n",
    "\n",
    "a) P(Z > 1.26), . P(Z < −0.86), P(Z > −1.37), P(−1.25 < Z < 0.37), . P(Z ≤ −4.6)\n",
    "\n",
    "b) Find the value z such that P(Z > z) = 0.05\n",
    "\n",
    "c) Find the value of z such that P(−z < Z < z) = 0.99"
   ]
  },
  {
   "cell_type": "code",
   "execution_count": 44,
   "metadata": {},
   "outputs": [
    {
     "name": "stdout",
     "output_type": "stream",
     "text": [
      "P(Z>1.26) : 0.10383468112130045\n",
      "P(Z<-0.86) : 0.1948945212518084\n",
      "P(Z>-1.37) : 0.914656549178033\n",
      "P(−1.25 < Z < 0.37): 0.5386589811336914\n",
      " P(Z ≤ −4.6): 2.1124547025028537e-06\n",
      "value z such that P(Z > z) = 0.05: 1.6448536269514729\n",
      "value of z such that P(−z < Z < z) = 0.99: 2.3263478740408408\n"
     ]
    }
   ],
   "source": [
    "print(\"P(Z>1.26) :\",1 - stats.norm.cdf(1.26))\n",
    "print(\"P(Z<-0.86) :\",stats.norm.cdf(-0.86))\n",
    "print(\"P(Z>-1.37) :\",1 - stats.norm.cdf(-1.37))\n",
    "print(\"P(−1.25 < Z < 0.37):\",stats.norm.cdf(0.37) - stats.norm.cdf(-1.25))\n",
    "print(\" P(Z ≤ −4.6):\",stats.norm.cdf(-4.6))\n",
    "print(\"value z such that P(Z > z) = 0.05:\",np.absolute(stats.norm.ppf(0.05)))\n",
    "print(\"value of z such that P(−z < Z < z) = 0.99:\",stats.norm.ppf(0.99))"
   ]
  },
  {
   "cell_type": "markdown",
   "metadata": {},
   "source": [
    "#### Problem Statement 11:\n",
    "\n",
    "The current flow in a copper wire follow a normal distribution with a mean of 10 mA\n",
    "and a variance of 4 (mA)2.\n",
    "What is the probability that a current measurement will exceed 13 mA? What is the\n",
    "probability that a current measurement is between 9 and 11mA? Determine the\n",
    "current measurement which has a probability of 0.98."
   ]
  },
  {
   "cell_type": "code",
   "execution_count": 50,
   "metadata": {},
   "outputs": [
    {
     "name": "stdout",
     "output_type": "stream",
     "text": [
      "Probability that the current measurement will exceed 13mA: 0.9331927987311419\n",
      "Probability that the current measurement is between 9 and 11mA : 0.38292492254802624\n",
      "Current measurement which has a probability of 0.98 :  14.107497821263646\n"
     ]
    }
   ],
   "source": [
    "mean = 10\n",
    "var = 4\n",
    "std = 2\n",
    "#P(Z>13)\n",
    "print(\"Probability that the current measurement will exceed 13mA:\",stats.norm.cdf(x=13,loc=mean,scale=std))\n",
    "#P(9<=Z<=11)\n",
    "print(\"Probability that the current measurement is between 9 and 11mA :\",stats.norm.cdf(x=11,loc=mean,scale=std) - stats.norm.cdf(x=9,loc=mean,scale=std))\n",
    "print(\"Current measurement which has a probability of 0.98 : \",stats.norm.ppf(q=0.98,loc=mean,scale=std))"
   ]
  },
  {
   "cell_type": "markdown",
   "metadata": {},
   "source": [
    "#### Problem Statement 12:\n",
    "\n",
    "The shaft in a piston has its diameter normally distributed with a mean of 0.2508 inch\n",
    "and a standard deviation of 0.0005 inch. The specifications of the shaft are 0.2500 ∓\n",
    "0.0015 inch. What proportion of shafts are in sync with the specifications? If the\n",
    "process is centered so that the mean is equal to the target value of 0.2500, what\n",
    "proportion of shafts conform to the new specifications? What is your conclusion from\n",
    "this experiment?"
   ]
  },
  {
   "cell_type": "code",
   "execution_count": 53,
   "metadata": {},
   "outputs": [
    {
     "name": "stdout",
     "output_type": "stream",
     "text": [
      "Proportion of shafts in sync with the specifications of spec1 and spec2 : 0.91924122831152\n",
      "Proportion of shafts in after the process is centered,mean == target value(0.2500): 0.9973002039367398\n",
      "We can conclude that if the mean of the shafts is centered to the mean of the specifications of the shaft the proportion of shafts which are in sync increases.ie The centering can increase the efficiency of the process\n"
     ]
    }
   ],
   "source": [
    "mean=0.2508\n",
    "std=0.0005\n",
    "\n",
    "spec1 = 0.2500 + 0.0015\n",
    "spec2 = 0.2500 - 0.0015\n",
    "\n",
    "print(\"Proportion of shafts in sync with the specifications of spec1 and spec2 :\",stats.norm.cdf(x=spec1 ,loc = mean,scale=std) - stats.norm.cdf(x=spec2 ,loc = mean,scale=std))\n",
    "\n",
    "#Process when centered\n",
    "new_mean = 0.2500\n",
    "print(\"Proportion of shafts in after the process is centered,mean == target value(0.2500):\",stats.norm.cdf(x=spec1 ,loc = new_mean,scale=std) - stats.norm.cdf(x=spec2 ,loc = new_mean,scale=std))\n",
    "print(\"We can conclude that if the mean of the shafts is centered to the mean of the specifications of the shaft the proportion of shafts which are in sync increases.ie The centering can increase the efficiency of the process\")"
   ]
  },
  {
   "cell_type": "code",
   "execution_count": null,
   "metadata": {},
   "outputs": [],
   "source": []
  }
 ],
 "metadata": {
  "kernelspec": {
   "display_name": "Python 3",
   "language": "python",
   "name": "python3"
  },
  "language_info": {
   "codemirror_mode": {
    "name": "ipython",
    "version": 3
   },
   "file_extension": ".py",
   "mimetype": "text/x-python",
   "name": "python",
   "nbconvert_exporter": "python",
   "pygments_lexer": "ipython3",
   "version": "3.7.1"
  }
 },
 "nbformat": 4,
 "nbformat_minor": 2
}
