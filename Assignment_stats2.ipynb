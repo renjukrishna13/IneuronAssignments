{
 "cells": [
  {
   "cell_type": "code",
   "execution_count": 19,
   "metadata": {},
   "outputs": [],
   "source": [
    "import numpy as np\n",
    "from scipy import stats"
   ]
  },
  {
   "cell_type": "code",
   "execution_count": 1,
   "metadata": {},
   "outputs": [],
   "source": [
    "#sample error calculation\n",
    "def sample_error(std_dev,sample_size):\n",
    "    return (std_dev/np.sqrt(sample_size))"
   ]
  },
  {
   "cell_type": "code",
   "execution_count": 5,
   "metadata": {},
   "outputs": [],
   "source": [
    "#Z-score calculation\n",
    "def z_test(sample_mean,pop_mean,std_error):\n",
    "    return((sample_mean-pop_mean)/std_error)"
   ]
  },
  {
   "cell_type": "code",
   "execution_count": 27,
   "metadata": {},
   "outputs": [],
   "source": [
    "#T-test\n",
    "\n",
    "def t_test(sample_mean,pop_mean,std_error):\n",
    "    return((sample_mean-pop_mean)/std_error)"
   ]
  },
  {
   "cell_type": "code",
   "execution_count": 72,
   "metadata": {},
   "outputs": [],
   "source": [
    "## Z-stat two means\n",
    "\n",
    "def z_stat_twomeans(mean1,mean2,std_error):\n",
    "    return(mean1-mean2/std_error)"
   ]
  },
  {
   "cell_type": "code",
   "execution_count": 73,
   "metadata": {},
   "outputs": [],
   "source": [
    "### sample error two means\n",
    "def sample_error_twomeans(s1,n1,s2,n2):\n",
    "    return (np.sqrt((s1**2/n1)+(s2**2/n2)))"
   ]
  },
  {
   "cell_type": "markdown",
   "metadata": {},
   "source": [
    "#### Problem Statement 1:\n",
    "\n",
    "In each of the following situations, state whether it is a correctly stated hypothesis\n",
    "testing problem and why?\n",
    "1. H0: μ = 25, H1: μ ≠ 25\n",
    "2. H0: σ > 10, H1: σ = 10\n",
    "3. H0: x = 50, H1: x ≠ 50\n",
    "4. H0: p = 0.1, H1: p = 0.5\n",
    "5. H0: s = 30, H1: s > 30"
   ]
  },
  {
   "cell_type": "markdown",
   "metadata": {},
   "source": [
    "1. H0: μ = 25, H1: μ ≠ 25  -> Correctly stated and it is a two-tailed test (μ < 25 or μ > 25)\n",
    "2. H0: σ > 10, H1: σ = 10  ->  This is incorrect , H1 should have been σ < 10 [If the original claim does not include equality (<, not equal, >) then the null hypothesis is the complement of the original claim. The null hypothesis always includes the equal sign. The decision is based on the null hypothesis. ]\n",
    "3. H0: x = 50, H1: x ≠ 50 -> No, the mean here refer to sample mean and the hypothesis is always about the population or distribution that we are looking at.\n",
    "4. H0: p = 0.1, H1: p = 0.5 -> Incorrect, This hypothesis talks about two different scenario.H1 should have been p ≠ 0.1 \n",
    "5. H0: s = 30, H1: s > 30 -> Incorrect, Hypothesis is always about the population not the sample\n"
   ]
  },
  {
   "cell_type": "markdown",
   "metadata": {},
   "source": [
    "#### Problem Statement 2:\n",
    "The college bookstore tells prospective students that the average cost of its\n",
    "textbooks is Rs. 52 with a standard deviation of Rs. 4.50. A group of smart statistics\n",
    "students thinks that the average cost is higher. To test the bookstore’s claim against\n",
    "their alternative, the students will select a random sample of size 100. Assume that\n",
    "the mean from their random sample is Rs. 52.80. Perform a hypothesis test at the\n",
    "5% level of significance and state your decision."
   ]
  },
  {
   "cell_type": "markdown",
   "metadata": {},
   "source": [
    "\n",
    "Hypothesis \n",
    "-----------------\n",
    "Ho: $\\mu\\$ = 52 \n",
    "\n",
    "Ha: $\\mu\\$ != 52 (Two tailed test)"
   ]
  },
  {
   "cell_type": "code",
   "execution_count": 18,
   "metadata": {},
   "outputs": [
    {
     "name": "stdout",
     "output_type": "stream",
     "text": [
      "0.0754403596268014\n",
      "Null hypothesis is accepted ! Average cost is 52\n",
      "1.959963984540054\n"
     ]
    },
    {
     "data": {
      "text/plain": [
       "0.07544035962680146"
      ]
     },
     "execution_count": 18,
     "metadata": {},
     "output_type": "execute_result"
    }
   ],
   "source": [
    "alpha = 0.05\n",
    "pop_mean = 52\n",
    "pop_std = 4.5\n",
    "sample_size = 100\n",
    "sample_mean = 52.8\n",
    "sample_err = sample_error(pop_std,sample_size)\n",
    "z_score = z_test(sample_mean,pop_mean,sample_err)\n",
    "\n",
    "\n",
    "#calculating p-value ; since it is a two tailed test\n",
    "p = 2*(1-(stats.norm.cdf(np.absolute(z_score))))\n",
    "#stats.norm.sf(abs(z_score))*2 This also gives the value\n",
    "print(p)\n",
    "if p < alpha:\n",
    "    print(\"Null Hypothesis rejected !Average cost is not 52\")\n",
    "else:\n",
    "    print(\"Null hypothesis is accepted ! Average cost is 52\")\n",
    "\n"
   ]
  },
  {
   "cell_type": "markdown",
   "metadata": {},
   "source": [
    "#### Problem Statement 3:\n",
    "A certain chemical pollutant in the Genesee River has been constant for several\n",
    "years with mean μ = 34 ppm (parts per million) and standard deviation σ = 8 ppm. A\n",
    "group of factory representatives whose companies discharge liquids into the river is\n",
    "now claiming that they have lowered the average with improved filtration devices. A\n",
    "group of environmentalists will test to see if this is true at the 1% level of\n",
    "significance. Assume \\ that their sample of size 50 gives a mean of 32.5 ppm.\n",
    "Perform a hypothesis test at the 1% level of significance and state your decision."
   ]
  },
  {
   "cell_type": "markdown",
   "metadata": {},
   "source": [
    "\n",
    "Hypothesis \n",
    "-----------------\n",
    "Ho: $\\mu\\$ = 34 \n",
    "\n",
    "Ha: $\\mu\\$ < 34(Left tailed test)"
   ]
  },
  {
   "cell_type": "code",
   "execution_count": 24,
   "metadata": {},
   "outputs": [
    {
     "name": "stdout",
     "output_type": "stream",
     "text": [
      "0.9075512005172\n",
      "Null hypothesis is accepted ! Average is 34\n"
     ]
    }
   ],
   "source": [
    "pop_mean = 34\n",
    "std_dev = 8\n",
    "alpha = 0.01\n",
    "sample_size = 50\n",
    "sample_mean = 32.5\n",
    "sample_err = sample_error(std_dev,sample_size)\n",
    "z_score = z_test(sample_mean,pop_mean,sample_err)\n",
    "\n",
    "#calculating critical value /p-value for 1% aplha\n",
    "p_value = stats.norm.cdf(abs(z_score))\n",
    "print(p_value)  ## stats.norm.sf(z_score)\n",
    "\n",
    "if p < alpha:\n",
    "    print(\"Null Hypothesis rejected !Average is less than 34\")\n",
    "else:\n",
    "    print(\"Null hypothesis is accepted ! Average is 34\")"
   ]
  },
  {
   "cell_type": "markdown",
   "metadata": {},
   "source": [
    "#### Problem Statement 4:\n",
    "\n",
    "Based on population figures and other general information on the U.S. population,\n",
    "suppose it has been estimated that, on average, a family of four in the U.S. spends\n",
    "about $1135 annually on dental expenditures. Suppose further that a regional dental\n",
    "association wants to test to determine if this figure is accurate for their area of\n",
    "country. To test this, 22 families of 4 are randomly selected from the population in\n",
    "that area of the country and a log is kept of the family’s dental expenditure for one\n",
    "year. The resulting data are given below. Assuming, that dental expenditure is\n",
    "normally distributed in the population, use the data and an alpha of 0.5 to test the\n",
    "dental association’s hypothesis.\n",
    "1008, 812, 1117, 1323, 1308, 1415, 831, 1021, 1287, 851, 930, 730, 699,\n",
    "872, 913, 944, 954, 987, 1695, 995, 1003, 994"
   ]
  },
  {
   "cell_type": "markdown",
   "metadata": {},
   "source": [
    "Hypothesis \n",
    "-----------------\n",
    "Ho: $\\mu\\$ = 1135\n",
    "\n",
    "Ha: $\\mu\\$ != 1135 (Two tailed)"
   ]
  },
  {
   "cell_type": "code",
   "execution_count": 36,
   "metadata": {},
   "outputs": [
    {
     "name": "stdout",
     "output_type": "stream",
     "text": [
      "[-2.070747228595759, 0.050898290089189]\n",
      "Null Hypothesis rejected !Average is not equal to $1135\n"
     ]
    }
   ],
   "source": [
    "#  sample size <30 and population variance is not given and as the sample is derived from a normal population we can use t-test\n",
    "\n",
    "pop_mean = 1135\n",
    "sample_size = 22 \n",
    "alpha = 0.5 \n",
    "samp_data=np.array([1008,812,1117,1323,1308,1415,831,1021,1287,851,930,730,699,872,913,944,954,987,1695,995,1003,994])\n",
    "samp_mean=np.mean(samp_data)\n",
    "samp_std=np.std(samp_data)\n",
    "t=t_test(pop_mean=1135,sample_mean=samp_mean,std_error=sample_error(samp_std,len(samp_data)))\n",
    "p = (1 - stats.t.cdf(abs(t), df = len(samp_data)-1)) * 2\n",
    "print([t,p])\n",
    "###Easier way\n",
    "stats.ttest_1samp(samp_data, pop_mean, axis=0, nan_policy='propagate', alternative='two-sided')\n",
    "\n",
    "if p < alpha:\n",
    "    print(\"Null Hypothesis rejected !Average is not equal to $1135\")\n",
    "else:\n",
    "    print(\"Null hypothesis is accepted ! Average is $1135\")"
   ]
  },
  {
   "cell_type": "markdown",
   "metadata": {},
   "source": [
    "#### Problem Statement 5:\n",
    "In a report prepared by the Economic Research Department of a major bank the\n",
    "Department manager maintains that the average annual family income on Metropolis\n",
    "is \\\\$ 48,432. What do you conclude about the validity of the report if a random sample\n",
    "of 400 families shows and average income of \\\\$48,574 with a standard deviation of\n",
    "2000?"
   ]
  },
  {
   "cell_type": "markdown",
   "metadata": {},
   "source": [
    "Hypothesis \n",
    "-----------------\n",
    "\n",
    "H0 : Average Family Income on Metropolis is $48,432(𝜇=48,432)\n",
    "\n",
    "H1 : 𝜇!=48432(Two-Tailed test)"
   ]
  },
  {
   "cell_type": "code",
   "execution_count": 38,
   "metadata": {},
   "outputs": [
    {
     "name": "stdout",
     "output_type": "stream",
     "text": [
      "Null Hypothesis is accepted(Average family income of metropolis is $48432)\n"
     ]
    }
   ],
   "source": [
    "pop_mean = 48432\n",
    "sample_size = 400\n",
    "sample_mean = 48574\n",
    "std_dev = 2000\n",
    "alpha = 0.05   #At 5% significance level assumption\n",
    "\n",
    "sample_err = sample_error(std_dev,sample_size)\n",
    "z_score = z_test(sample_mean,pop_mean,sample_err)\n",
    "\n",
    "#calculating critical value /p-value \n",
    "p_value = stats.norm.cdf(abs(z_score))\n",
    "if p_value<alpha:\n",
    "    print(\"Null Hypothesis is rejected(Average family income of metropolis is not $48432)\")\n",
    "else:\n",
    "    print(\"Null Hypothesis is accepted(Average family income of metropolis is $48432)\")"
   ]
  },
  {
   "cell_type": "markdown",
   "metadata": {},
   "source": [
    "#### Problem Statement 6:\n",
    "\n",
    "Suppose that in past years the average price per square foot for warehouses in the\n",
    "United States has been \\\\$32.28. A national real estate investor wants to determine\n",
    "whether that figure has changed now. The investor hires a researcher who randomly\n",
    "samples 19 warehouses that are for sale across the United States and finds that the\n",
    "mean price per square foot is \\\\$31.67, with a standard deviation of \\\\$1.29. assume\n",
    "that the prices of warehouse footage are normally distributed in population. If the\n",
    "researcher uses a 5% level of significance, what statistical conclusion can be\n",
    "reached? What are the hypotheses?"
   ]
  },
  {
   "cell_type": "code",
   "execution_count": null,
   "metadata": {},
   "outputs": [],
   "source": [
    "Hypothesis \n",
    "-----------------\n",
    "\n",
    "H0 : 𝜇=32.28\n",
    "\n",
    "H1 : 𝜇!=32.28(Two-Tailed test)"
   ]
  },
  {
   "cell_type": "code",
   "execution_count": 47,
   "metadata": {},
   "outputs": [
    {
     "name": "stdout",
     "output_type": "stream",
     "text": [
      "Null hypothesis accepted ! 𝜇=32.28\n"
     ]
    }
   ],
   "source": [
    "pop_mean = 32.28\n",
    "sample_size = 19 # hence t-test\n",
    "sample_mean = 31.67\n",
    "std_dev = 1.29\n",
    "alpha = 0.05\n",
    "t=t_test(pop_mean=1135,sample_mean=samp_mean,std_error=sample_error(samp_std,len(samp_data)))\n",
    "p = (1 - stats.t.cdf(abs(t), df = len(samp_data)-1)) * 2\n",
    "if p < alpha :\n",
    "    print(\"Null hypothesis rejected ! 𝜇!=32.28\")\n",
    "else:\n",
    "    print(\"Null hypothesis accepted ! 𝜇=32.28\")"
   ]
  },
  {
   "cell_type": "markdown",
   "metadata": {},
   "source": [
    "#### Problem Statement 7:\n",
    "Fill in the blank spaces in the table and draw your conclusions from it\n",
    "\n",
    "|Acceptance region | Sample size #  | $\\alpha $   | $\\beta $ at $\\mu $ = 52  |  $\\beta $ at $\\mu $ = 52  |\n",
    "|---:|:-------------|:-----------|:------|:------|\n",
    "| 48.5 < $\\bar x$  51.5  | 10 \n",
    "| 48 < $\\bar x$  52  | 10 \n",
    "| 48.81 < $\\bar x$  51.9  | 10\n",
    "| 48.42 < $\\bar x$  51.58 | 10"
   ]
  },
  {
   "cell_type": "markdown",
   "metadata": {},
   "source": [
    "#### Problem Statement :\n",
    "\n",
    "Find the t-score for a sample size of 16 taken from a population with mean 10 when\n",
    "the sample mean is 12 and the sample standard deviation is 1.5?"
   ]
  },
  {
   "cell_type": "code",
   "execution_count": 50,
   "metadata": {},
   "outputs": [
    {
     "name": "stdout",
     "output_type": "stream",
     "text": [
      "t-score: 5.333333333333333\n"
     ]
    }
   ],
   "source": [
    "n=16\n",
    "pop_mean = 10\n",
    "sample_mean = 12\n",
    "std_deviation = 1.5\n",
    "\n",
    "print(\"t-score:\",t_test(sample_mean,pop_mean,std_error = sample_error(std_deviation,n)))\n"
   ]
  },
  {
   "cell_type": "markdown",
   "metadata": {},
   "source": [
    "#### Problem Statement 9:\n",
    "\n",
    "Find the t-score below which we can expect 99% of sample means will fall if samples\n",
    "of size 16 are taken from a normally distributed population."
   ]
  },
  {
   "cell_type": "code",
   "execution_count": 56,
   "metadata": {},
   "outputs": [
    {
     "name": "stdout",
     "output_type": "stream",
     "text": [
      "2.602480294995493\n"
     ]
    }
   ],
   "source": [
    "n=16\n",
    "#99% confidence ,so alpha = 1-0.99 =0.01\n",
    "alpha = 0.01\n",
    "dof = n - 1\n",
    "t_score = stats.t.ppf(0.99,dof)\n",
    "print(t_score)"
   ]
  },
  {
   "cell_type": "markdown",
   "metadata": {},
   "source": [
    "#### Problem Statement 10:\n",
    "If a random sample of size 25 drawn from a normal population gives a mean of 60\n",
    "and a standard deviation of 4, find the range of t-scores where we can expect to find\n",
    "the middle 95% of all sample means. Compute the probability that (−t0.05 <t<t0.10)."
   ]
  },
  {
   "cell_type": "code",
   "execution_count": 62,
   "metadata": {},
   "outputs": [
    {
     "name": "stdout",
     "output_type": "stream",
     "text": [
      "Range is : 58.348881150697586 61.651118849302414\n"
     ]
    }
   ],
   "source": [
    "mean = 60\n",
    "n = 25\n",
    "std= 4\n",
    "alpha=(1-0.95)/2\n",
    "t_score=stats.t.ppf(1-alpha,df=24)\n",
    "print(f\"Range is : {mean-t_score*(std/(n**0.5))} {mean+t_score*(std/(n**0.5))}\")"
   ]
  },
  {
   "cell_type": "code",
   "execution_count": 70,
   "metadata": {},
   "outputs": [
    {
     "name": "stdout",
     "output_type": "stream",
     "text": [
      "probability that (−t0.05 <t<t0.10):0.05914441613731247\n"
     ]
    }
   ],
   "source": [
    "p=stats.t.cdf(0.1,df=n-1) - stats.t.cdf(-0.05,df=n-1)\n",
    "print(f\"probability that (−t0.05 <t<t0.10):{p}\")"
   ]
  },
  {
   "cell_type": "markdown",
   "metadata": {},
   "source": [
    "#### Problem Statement 11:\n",
    "Two-tailed test for difference between two population means\n",
    "Is there evidence to conclude that the number of people travelling from Bangalore to\n",
    "Chennai is different from the number of people travelling from Bangalore to Hosur in\n",
    "a week, given the following:\n",
    "Population 1: Bangalore to Chennai n1 = 1200\n",
    "x1 = 452\n",
    "s1 = 212\n",
    "Population 2: Bangalore to Hosur n2 = 800\n",
    "x2 = 523\n",
    "s2 = 185"
   ]
  },
  {
   "cell_type": "code",
   "execution_count": 71,
   "metadata": {},
   "outputs": [],
   "source": [
    "n1=1200\n",
    "x1=452\n",
    "s1=212\n",
    "\n",
    "n2=800\n",
    "x2=523\n",
    "s2=185\n"
   ]
  },
  {
   "cell_type": "markdown",
   "metadata": {},
   "source": [
    "#### Hypothesis:\n",
    "\n",
    "H0: number of people travelling from Bangalore to\n",
    "Chennai is same as  from the number of people travelling from Bangalore to Hosur in\n",
    "a week(𝜇1=𝜇2)\n",
    "\n",
    "H1:number of people travelling from Bangalore to\n",
    "Chennai is different from the number of people travelling from Bangalore to Hosur in\n",
    "a week(𝜇1!=𝜇2)"
   ]
  },
  {
   "cell_type": "code",
   "execution_count": 93,
   "metadata": {},
   "outputs": [
    {
     "name": "stdout",
     "output_type": "stream",
     "text": [
      "Null Hypothesis is rejected(number of people travelling from Bangalore to Chennai is different from the number of people travelling from Bangalore to Hosur in a week(𝜇1!=𝜇2)\n"
     ]
    }
   ],
   "source": [
    "## Sample size is above 30, so we use z-test\n",
    "\n",
    "std_err = sample_error_twomeans(s1,n1,s2,n2)\n",
    "z_score = z_stat_twomeans(x1,x2,std_err)\n",
    "#z_score\n",
    "alpha = 0.05\n",
    "p=2*(1-stats.norm.cdf(x=np.absolute(z_score)))\n",
    "\n",
    "if p<alpha:\n",
    "    print(\"Null Hypothesis is rejected(number of people travelling from Bangalore to Chennai is different from the number of people travelling from Bangalore to Hosur in a week(𝜇1!=𝜇2)\")\n",
    "else:\n",
    "    print('Null Hypothesis is accepted(number of people travelling from Bangalore to Chennai is same as  from the number of people travelling from Bangalore to Hosur in a week(𝜇1=𝜇2))')"
   ]
  },
  {
   "cell_type": "markdown",
   "metadata": {},
   "source": [
    "#### Problem Statement 12:\n",
    "Is there evidence to conclude that the number of people preferring Duracell battery is\n",
    "different from the number of people preferring Energizer battery, given the following:\n",
    "Population 1: Duracell\n",
    "n1 = 100\n",
    "x1 = 308\n",
    "s1 = 84\n",
    "Population 2: Energizer\n",
    "n2 = 100\n",
    "x2 = 254\n",
    "s2 = 67"
   ]
  },
  {
   "cell_type": "code",
   "execution_count": 94,
   "metadata": {},
   "outputs": [],
   "source": [
    "n1=100\n",
    "x1=308\n",
    "s1=84\n",
    "\n",
    "n2=100\n",
    "x2=254\n",
    "s2=67\n"
   ]
  },
  {
   "cell_type": "markdown",
   "metadata": {},
   "source": [
    "#### Hypothesis:\n",
    "\n",
    "H0: number of people preferring Duracell battery is same as Energizer battery(𝜇1=𝜇2)\n",
    "\n",
    "H1: number of people preferring Duracell battery is not same as Energizer battery (𝜇1!=𝜇2)\n",
    "    "
   ]
  },
  {
   "cell_type": "code",
   "execution_count": 99,
   "metadata": {},
   "outputs": [
    {
     "name": "stdout",
     "output_type": "stream",
     "text": [
      "Null hypothesis is rejected ! Duracell preference not equal to Energizer\n"
     ]
    }
   ],
   "source": [
    "alpha =0.05\n",
    "z_score = z_stat_twomeans(x1,x2,sample_error_twomeans(s1,n1,s2,n2))\n",
    "z_score\n",
    "p=2*(1-stats.norm.cdf(np.absolute(z_score)))\n",
    "if p < alpha:\n",
    "    print(\"Null hypothesis is rejected ! Duracell preference not equal to Energizer\")\n",
    "else:\n",
    "    print(\"Null hypothesis is accepted ! Duracell preference is equal to Energizer\")"
   ]
  },
  {
   "cell_type": "markdown",
   "metadata": {},
   "source": [
    "#### Problem Statement 13:\n",
    "Pooled estimate of the population variance\n",
    "Does the data provide sufficient evidence to conclude that average percentage\n",
    "increase in the price of sugar differs when it is sold at two different prices?\n",
    "\n",
    "Population 1: Price of sugar = Rs. 27.50 n1 = 14\n",
    "x1 = 0.317%\n",
    "s1 = 0.12%\n",
    "\n",
    "Population 2: Price of sugar = Rs. 20.00 n2 = 9\n",
    "x2 = 0.21%\n",
    "s2 = 0.11%"
   ]
  },
  {
   "cell_type": "code",
   "execution_count": 111,
   "metadata": {},
   "outputs": [],
   "source": [
    "\n",
    "n1=14\n",
    "x1=0.317\n",
    "s1=0.12\n",
    "\n",
    "n2=9\n",
    "x2=0.21\n",
    "s2=0.11\n",
    "\n"
   ]
  },
  {
   "cell_type": "markdown",
   "metadata": {},
   "source": [
    "#### Hypothesis:\n",
    "\n",
    "H0: Average percentage increase in the price of sugar is same when it is sold at two different prices.\n",
    "\n",
    "H1: Average percentage increase in the price of sugar differs when it is sold at two different prices."
   ]
  },
  {
   "cell_type": "code",
   "execution_count": 126,
   "metadata": {},
   "outputs": [
    {
     "name": "stdout",
     "output_type": "stream",
     "text": [
      "Null Hypothesis is accepted(Average percentage increase in the price of sugar is same when it is sold at two different prices.)\n"
     ]
    }
   ],
   "source": [
    "#Since sample size is small,we will use t-test\n",
    "def estimate_std_deviation(n1,s1,n2,s2):\n",
    "    return np.sqrt(((n1*s1**2)+(n2*s2**2))/(n1+n2-2))\n",
    "estd_std_dev = estimate_std_deviation(n1,s1,n2,s2)\n",
    "t=z_stat_twomeans(0.317,0.21,sample_error_twomeans(s1=estd_std_dev,s2=estd_std_dev,n1=14,n2=9))\n",
    "p=2*(1-stats.t.cdf(x=np.absolute(t),df=14+9-2))\n",
    "\n",
    "if p<alpha:\n",
    "    print(\"Null Hypothesis is rejected(Average percentage increase in the price of sugar differs when it is sold at two different prices.)\")\n",
    "else:\n",
    "    print(\"Null Hypothesis is accepted(Average percentage increase in the price of sugar is same when it is sold at two different prices.)\")"
   ]
  },
  {
   "cell_type": "markdown",
   "metadata": {},
   "source": [
    "#### Problem Statement 14:\n",
    "The manufacturers of compact disk players want to test whether a small price\n",
    "reduction is enough to increase sales of their product. Is there evidence that the\n",
    "small price reduction is enough to increase sales of compact disk players?\n",
    "\n",
    "Population 1: Before reduction\n",
    "n1 = 15\n",
    "x1 = Rs. 6598 s1 = Rs. 844\n",
    "\n",
    "Population 2: After reduction n2 = 12\n",
    "x2 = RS. 6870\n",
    "s2 = Rs. 669"
   ]
  },
  {
   "cell_type": "markdown",
   "metadata": {},
   "source": [
    "#### Hypothesis:\n",
    "\n",
    "Ho: Average sales before and after reduction is almost same(𝜇2 - 𝜇1 <=0)\n",
    "\n",
    "H1: 𝜇2>𝜇1(Average Sales after reduction increased)(One Tailed Test)"
   ]
  },
  {
   "cell_type": "code",
   "execution_count": 134,
   "metadata": {},
   "outputs": [
    {
     "name": "stdout",
     "output_type": "stream",
     "text": [
      "801.3930870677635\n",
      "-9.497823390503818\n",
      "Null Hypothesis is accepted(Average Sales before and after reduction is same or less)\n"
     ]
    }
   ],
   "source": [
    "n1=15\n",
    "x1=6598\n",
    "s1=844\n",
    "\n",
    "n2=12\n",
    "x2=6870\n",
    "s2=669\n",
    "\n",
    "alpha = 0.05\n",
    "estd_std_dev = estimate_std_deviation(n1,s1,n2,s2)\n",
    "print(estd_std_dev)\n",
    "t=z_stat_twomeans(6598,6870,sample_error_twomeans(estd_std_dev,estd_std_dev,15,12))\n",
    "print(t)\n",
    "p=1-(stats.t.cdf(x=t,df=15+12-1))\n",
    "if p<alpha:\n",
    "    print(\"Null Hypothesis is rejected(Average Sales after reduction increased)\")\n",
    "else: \n",
    "    print(\"Null Hypothesis is accepted(Average Sales before and after reduction is same or less)\")"
   ]
  },
  {
   "cell_type": "markdown",
   "metadata": {},
   "source": [
    "#### Problem Statement 15:\n",
    "Comparisons of two population proportions when the hypothesized difference is zero\n",
    "Carry out a two-tailed test of the equality of banks’ share of the car loan market in\n",
    "1980 and 1995.\n",
    "\n",
    "Population 1: 1980\n",
    "n1 = 1000\n",
    "x1 = 53\n",
    "p 1 = 0.53\n",
    "\n",
    "Population 2: 1985\n",
    "n2 = 100\n",
    "x2 = 43\n",
    "p 2= 0.53"
   ]
  },
  {
   "cell_type": "markdown",
   "metadata": {},
   "source": [
    "#### Hypothesis:\n",
    "\n",
    "Ho : Banks share of the car loan market in 1980 and 1995 is equal(P1=P2)\n",
    "\n",
    "H1 : Banks share of the car loan market in 1980 and 1995 is not equal(P1!=P2)(Two-Tailed test)"
   ]
  },
  {
   "cell_type": "code",
   "execution_count": 136,
   "metadata": {},
   "outputs": [
    {
     "name": "stdout",
     "output_type": "stream",
     "text": [
      "Null Hypothesis is rejected(Banks share of the car loan market in 1980 and 1995 is not equal(P1!=P2))\n"
     ]
    }
   ],
   "source": [
    "n1 = 1000\n",
    "x1 = 53 \n",
    "p1 = 0.53\n",
    "\n",
    "n2 = 100 \n",
    "x2 = 43 \n",
    "p2= 0.53\n",
    "\n",
    "def z_test_pop_proportions(p1,p2,se):\n",
    "    return ((p1-p2)/se)\n",
    "def sample_error_pop_proportions(p1,p2,n1,n2):\n",
    "    return np.sqrt(((p1*(1-p1))/n1)+((p2*(1-p2))/n2))\n",
    "\n",
    "alpha=0.05\n",
    "p1=53/1000\n",
    "p2=43/100\n",
    "z=z_test_pop_proportions(p1=p1,p2=p2,se=sample_error_pop_proportions(p1=p1,p2=p2,n1=1000,n2=100))\n",
    "p=2*(1-stats.norm.cdf(x=np.absolute(z)))\n",
    "if p<alpha:\n",
    "    print(\"Null Hypothesis is rejected(Banks share of the car loan market in 1980 and 1995 is not equal(P1!=P2))\")\n",
    "else:\n",
    "    print(\"Null Hypothesis is accepted(Banks share of the car loan market in 1980 and 1995 is equal(P1=P2))\")"
   ]
  },
  {
   "cell_type": "markdown",
   "metadata": {},
   "source": [
    "#### Problem Statement 16:\n",
    "Carry out a one-tailed test to determine whether the population proportion of\n",
    "traveler’s check buyers who buy at least $2500 in checks when sweepstakes prizes\n",
    "are offered as at least 10% higher than the proportion of such buyers when no\n",
    "sweepstakes are on.\n",
    "\n",
    "Population 1: With sweepstakes\n",
    "n1 = 300\n",
    "x1 = 120\n",
    "p = 0.40\n",
    "\n",
    "Population 2: No sweepstakes n2 = 700\n",
    "x2 = 140\n",
    "p 2= 0.20"
   ]
  },
  {
   "cell_type": "markdown",
   "metadata": {},
   "source": [
    "#### Hypothesis:\n",
    "\n",
    "H0: P1-P2>=0.1(the population proportion of traveler’s check buyers who buy at least $2500 in checks when sweepstakes prizes are offered as at least 10% higher than the proportion of such buyers when no sweepstakes are on.)\n",
    "\n",
    "H1 : P1-P2<0.1(Left-tailed test)"
   ]
  },
  {
   "cell_type": "code",
   "execution_count": 137,
   "metadata": {},
   "outputs": [
    {
     "name": "stdout",
     "output_type": "stream",
     "text": [
      "Null Hypothesis is accepted(the population proportion of traveler’s check buyers who buy at least $2500 in checks when sweepstakes prizes are offered as at least 10% higher than the proportion of such buyers when no sweepstakes are on)\n"
     ]
    }
   ],
   "source": [
    "alpha=0.05\n",
    "se=sample_error_pop_proportions(p1=0.4,p2=0.2,n1=300,n2=140)\n",
    "z=((0.4-0.2-0.1)/se)\n",
    "p=stats.norm.cdf(z)\n",
    "if p<alpha:\n",
    "    print(\"Null Hypothesis is rejected\")\n",
    "else:\n",
    "    print(\"Null Hypothesis is accepted(the population proportion of traveler’s check buyers who buy at least $2500 in checks when sweepstakes prizes are offered as at least 10% higher than the proportion of such buyers when no sweepstakes are on)\")"
   ]
  },
  {
   "cell_type": "markdown",
   "metadata": {},
   "source": [
    "#### Problem Statement 17:\n",
    "\n",
    "A die is thrown 132 times with the following results: Number turned up: 1, 2, 3, 4, 5, 6\n",
    "Frequency: 16, 20, 25, 14, 29, 28\n",
    "Is the die unbiased? Consider the degrees of freedom as p − 1."
   ]
  },
  {
   "cell_type": "markdown",
   "metadata": {},
   "source": [
    "#### Hypothesis:\n",
    "\n",
    "H0: The dice is unbiased\n",
    "\n",
    "H1: The dice is biased"
   ]
  },
  {
   "cell_type": "code",
   "execution_count": 140,
   "metadata": {},
   "outputs": [
    {
     "name": "stdout",
     "output_type": "stream",
     "text": [
      "Null Hypothesis is accepted(Dice is unbiased)\n"
     ]
    }
   ],
   "source": [
    "##### If a die is unbiased then the probabilities of getting 1,2,3,4,5,6 must be equal to 1/6.\n",
    "##### So the expected frequencies of 1,2,3,4,5,6 for 132 trails must be 22(22/132=1/6)\n",
    "\n",
    "observed=np.array([16,20,25,14,29,28])\n",
    "expected=np.array([22,22,22,22,22,22])\n",
    "\n",
    "chi,p=stats.chisquare(f_obs=observed,f_exp=expected)\n",
    "alpha = 0.05\n",
    "if p<alpha:\n",
    "    print(\"Null Hypothesis is rejected(Dice is biased)\")\n",
    "else:\n",
    "    print(\"Null Hypothesis is accepted(Dice is unbiased)\")"
   ]
  },
  {
   "cell_type": "markdown",
   "metadata": {},
   "source": [
    "#### Problem Statement 18:\n",
    "\n",
    "Problem Statement 18:\n",
    "In a certain town, there are about one million eligible voters. A simple random\n",
    "sample of 10,000 eligible voters was chosen to study the relationship between\n",
    "gender and participation in the last election. The results are summarized in the\n",
    "following 2X2 (read two by two) contingency table:\n",
    "\n",
    "| :: | Men | Women  |\n",
    "|---:|:-------------|:-----------|\n",
    "| Voted | 2792 | 3591\n",
    "| Not Voted | 1486 |2131\n",
    "\n",
    "We would want to check whether being a man or a woman (columns) is independent of\n",
    "having voted in the last election (rows). In other words, is “gender and voting independent”?"
   ]
  },
  {
   "cell_type": "markdown",
   "metadata": {},
   "source": [
    "#### Hypothesis:\n",
    "\n",
    "H0 :Gender and voting is independent\n",
    "\n",
    "H1 : Gender and voting are dependent"
   ]
  },
  {
   "cell_type": "code",
   "execution_count": 141,
   "metadata": {},
   "outputs": [
    {
     "name": "stdout",
     "output_type": "stream",
     "text": [
      "The expected values are : [[2730.6474 3652.3526]\n",
      " [1547.3526 2069.6474]]\n",
      "Null Hypothesis is rejected(Gender and voting are dependent)\n"
     ]
    }
   ],
   "source": [
    "#We use a chi-square test using contigency table\n",
    "alpha=0.05\n",
    "data=np.array([[2792,3591],[1486,2131]])\n",
    "chi2,p,dof,expected=stats.chi2_contingency(data)\n",
    "print(\"The expected values are :\",expected)\n",
    "if p<alpha:\n",
    "    print(\"Null Hypothesis is rejected(Gender and voting are dependent)\")\n",
    "else:\n",
    "    print(\"Null Hypothesis is accepted(Gender and voting is independent)\")"
   ]
  },
  {
   "cell_type": "markdown",
   "metadata": {},
   "source": [
    "#### Problem Statement 19:\n",
    "\n",
    "A sample of 100 voters are asked which of four candidates they would vote for in an\n",
    "election. The number supporting each candidate is given below:\n",
    "\n",
    "| Higgins | Reardon | white  | Charlton |\n",
    "|---:|:-------------|:-----------|:-------|\n",
    "| 41| 19 | 24 | 16\n",
    "\n",
    "\n",
    "Do the data suggest that all candidates are equally popular? [Chi-Square = 14.96,\n",
    "with 3 df, p< 0.05 .\n"
   ]
  },
  {
   "cell_type": "markdown",
   "metadata": {},
   "source": [
    "#### Hypothesis:\n",
    "\n",
    "H0 : All candidates are equally popular\n",
    "\n",
    "H1 : All candidates are not equally popular"
   ]
  },
  {
   "cell_type": "code",
   "execution_count": 143,
   "metadata": {},
   "outputs": [
    {
     "name": "stdout",
     "output_type": "stream",
     "text": [
      "Null Hypothesis is rejected(All candidates are not equally popular)\n"
     ]
    }
   ],
   "source": [
    "alpha=0.05\n",
    "obs=[41,19,24,16]\n",
    "exp=[25,25,25,25]\n",
    "chi,p=stats.chisquare(f_obs=obs,f_exp=exp)\n",
    "if p<alpha:\n",
    "    print(\"Null Hypothesis is rejected(All candidates are not equally popular)\")\n",
    "else:\n",
    "    print(\"Null Hypothesis is accepted(All candidates are equally popular)\")"
   ]
  },
  {
   "attachments": {
    "image.png": {
     "image/png": "[encoded data removed]"
    }
   },
   "cell_type": "markdown",
   "metadata": {},
   "source": [
    "#### Problem Statement 20:\n",
    "\n",
    "Children of three ages are asked to indicate their preference for three photographs of\n",
    "adults. Do the data suggest that there is a significant relationship between age and\n",
    "photograph preference? What is wrong with this study? [Chi-Square = 29.6, with 4\n",
    "df: p < 0.05].\n",
    "\n",
    "![image.png](attachment:image.png)\n",
    "\n"
   ]
  },
  {
   "cell_type": "markdown",
   "metadata": {},
   "source": [
    "#### Hypothesis:\n",
    "\n",
    "H0 : There is no significant relationship between age and photograph preference.\n",
    "\n",
    "H1 : There is a significant relationship between age and photograph preference. "
   ]
  },
  {
   "cell_type": "code",
   "execution_count": 145,
   "metadata": {},
   "outputs": [
    {
     "name": "stdout",
     "output_type": "stream",
     "text": [
      "Null Hypothesis is rejected(There is a significant relationship between age and photograph preference. )\n"
     ]
    }
   ],
   "source": [
    "alpha=0.05\n",
    "data=np.array([[18,22,20],[2,28,40],[20,10,40]])\n",
    "chi2,p,dof,expected=stats.chi2_contingency(data)\n",
    "if p<alpha:\n",
    "    print(\"Null Hypothesis is rejected(There is a significant relationship between age and photograph preference. )\")\n",
    "else:\n",
    "    print(\"Null Hypothesis is accepted(There is no significant relationship between age and photograph preference.)\")"
   ]
  },
  {
   "attachments": {
    "image.png": {
     "image/png": "[encoded data removed]"
    }
   },
   "cell_type": "markdown",
   "metadata": {},
   "source": [
    "#### Problem Statement 21:\n",
    "\n",
    "A study of conformity using the Asch paradigm involved two conditions: one where\n",
    "one confederate supported the true judgement and another where no confederate\n",
    "gave the correct response.\n",
    "\n",
    "![image.png](attachment:image.png)\n",
    "\n",
    "Is there a significant difference between the \"support\" and \"no support\" conditions in the\n",
    "frequency with which individuals are likely to conform? [Chi-Square = 19.87, with 1 df:\n",
    "p < 0.05]."
   ]
  },
  {
   "cell_type": "markdown",
   "metadata": {},
   "source": [
    "#### Hypothesis:\n",
    "\n",
    "H0 : There is no significant difference between the \"support\" and \"no support\" conditions in the\n",
    "                     frequency with which individuals are likely to conform.\n",
    "                     \n",
    "H1 : There is a significant difference between the \"support\" and \"no support\" conditions in the\n",
    "                            frequency with which individuals are likely to conform. "
   ]
  },
  {
   "cell_type": "code",
   "execution_count": 147,
   "metadata": {},
   "outputs": [
    {
     "name": "stdout",
     "output_type": "stream",
     "text": [
      "Null Hypothesis is rejected(There is a significant difference between the support and no support conditions in the frequency with which individuals are likely to conform.)\n"
     ]
    }
   ],
   "source": [
    "alpha=0.05\n",
    "data=np.array([[18,40],[32,10]])\n",
    "chi2,p,dof,expected=stats.chi2_contingency(data)\n",
    "if p<alpha:\n",
    "    print(\"Null Hypothesis is rejected(There is a significant difference between the support and no support conditions in the frequency with which individuals are likely to conform.)\")\n",
    "else:\n",
    "    print(\"Null Hypothesis is accepted(There is no significant difference between the support and no support conditions in the frequency with which individuals are likely to conform.)\")"
   ]
  },
  {
   "attachments": {
    "image.png": {
     "image/png": "[encoded data removed]"
    }
   },
   "cell_type": "markdown",
   "metadata": {},
   "source": [
    "#### Problem Statement 22:\n",
    "\n",
    "We want to test whether short people differ with respect to their leadership qualities\n",
    "(Genghis Khan, Adolf Hitler and Napoleon were all stature-deprived, and how many midget\n",
    "MP's are there?) The following table shows the frequencies with which 43 short people and\n",
    "52 tall people were categorized as \"leaders\", \"followers\" or as \"unclassifiable\". Is there a\n",
    "relationship between height and leadership qualities?\n",
    "[Chi-Square = 10.71, with 2 df: p < 0.01].\n",
    "\n",
    "![image.png](attachment:image.png)"
   ]
  },
  {
   "cell_type": "markdown",
   "metadata": {},
   "source": [
    "#### Hypothesis:\n",
    "\n",
    "H0 : There is no relationship between height and leadership qualities.\n",
    "\n",
    "H1 : There is a relationship between height and leadership qualities. "
   ]
  },
  {
   "cell_type": "code",
   "execution_count": 149,
   "metadata": {},
   "outputs": [
    {
     "name": "stdout",
     "output_type": "stream",
     "text": [
      "Null Hypothesis is rejected(There is a relationship between height and leadership qualities.)\n"
     ]
    }
   ],
   "source": [
    "alpha=0.01\n",
    "data=np.array([[12,32],[22,14],[9,6]])\n",
    "chi2,p,dof,expected=stats.chi2_contingency(data)\n",
    "if p<alpha:\n",
    "    print(\"Null Hypothesis is rejected(There is a relationship between height and leadership qualities.)\")\n",
    "else:\n",
    "    print(\"Null Hypothesis is accepted(There is no relationship between height and leadership qualities.)\")"
   ]
  },
  {
   "attachments": {
    "image.png": {
     "image/png": "[encoded data removed]"
    }
   },
   "cell_type": "markdown",
   "metadata": {},
   "source": [
    "#### Problem Statement 23:\n",
    "\n",
    "Each respondent in the Current Population Survey of March 1993 was classified as\n",
    "employed, unemployed, or outside the labor force. The results for men in California age 35-\n",
    "44 can be cross-tabulated by marital status, as follows:\n",
    "\n",
    "![image.png](attachment:image.png)\n",
    "\n",
    "Men of different marital status seem to have different distributions of labor force status. Or is\n",
    "this just chance variation? (you may assume the table results from a simple random\n",
    "sample.)"
   ]
  },
  {
   "cell_type": "markdown",
   "metadata": {},
   "source": [
    "#### Hypothesis:\n",
    "\n",
    "H0: Marital status and employement status are independent.\n",
    "\n",
    "H1 : Marital status and employement status are dependent."
   ]
  },
  {
   "cell_type": "code",
   "execution_count": 151,
   "metadata": {},
   "outputs": [
    {
     "name": "stdout",
     "output_type": "stream",
     "text": [
      "Null Hypothesis is rejected(Marital status and employement status are dependent.)\n"
     ]
    }
   ],
   "source": [
    "alpha=0.05\n",
    "data=np.array([[679,103,114],[63,10,20],[42,18,25]])\n",
    "chi2,p,dof,expected=stats.chi2_contingency(data)\n",
    "if p<alpha:\n",
    "    print(\"Null Hypothesis is rejected(Marital status and employement status are dependent.)\")\n",
    "else:\n",
    "    print(\"Null Hypothesis is accepted(Marital status and employement status are independent.)\")"
   ]
  },
  {
   "cell_type": "code",
   "execution_count": null,
   "metadata": {},
   "outputs": [],
   "source": []
  }
 ],
 "metadata": {
  "kernelspec": {
   "display_name": "Python 3",
   "language": "python",
   "name": "python3"
  },
  "language_info": {
   "codemirror_mode": {
    "name": "ipython",
    "version": 3
   },
   "file_extension": ".py",
   "mimetype": "text/x-python",
   "name": "python",
   "nbconvert_exporter": "python",
   "pygments_lexer": "ipython3",
   "version": "3.7.1"
  }
 },
 "nbformat": 4,
 "nbformat_minor": 2
}
