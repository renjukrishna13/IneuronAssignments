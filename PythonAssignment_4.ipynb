{
 "cells": [
  {
   "cell_type": "markdown",
   "metadata": {},
   "source": [
    "### 1.1 Write a Python Program(with class concepts) to find the area of the triangle using the below formula.\n",
    "     area = (s*(s-a)*(s-b)*(s-c)) ** 0.5\n",
    "### Function to take the length of the sides of triangle from user should be defined in the parent class and function to calculate the area should be defined in subclass."
   ]
  },
  {
   "cell_type": "code",
   "execution_count": 67,
   "metadata": {},
   "outputs": [],
   "source": [
    "class Triangle:\n",
    "    \"\"\"\n",
    "    Class representing a Triangle\n",
    "    \n",
    "    Attributes\n",
    "    ----------\n",
    "        side1 : int \n",
    "                length of first side\n",
    "        side2 : int\n",
    "                length of second side\n",
    "        side3 : int\n",
    "                length of third side\n",
    "                \n",
    "      \n",
    "    \"\"\"\n",
    "    def __init__(self,side1,side2,side3):\n",
    "        \n",
    "        \"\"\"\n",
    "        Parameters\n",
    "        ----------\n",
    "        side1 : int \n",
    "                length of first side\n",
    "        side2 : int\n",
    "                length of second side\n",
    "        side3 : int\n",
    "                length of third side\n",
    "        \"\"\"\n",
    "        \n",
    "        self.a = side1\n",
    "        self.b = side2\n",
    "        self.c = side3\n",
    "        \n",
    "    def __str__(self):\n",
    "        return \"A triangle with sides %d, %d, %d, units\"%(self.a,self.b,self.c)\n"
   ]
  },
  {
   "cell_type": "code",
   "execution_count": 91,
   "metadata": {},
   "outputs": [],
   "source": [
    "class TriangleProperties(Triangle):\n",
    "    \"\"\"\n",
    "    Class representing the properties of a triangle\n",
    "    This is child class of Triangle\n",
    "      \n",
    "    \n",
    "    Methods\n",
    "    -------\n",
    "    __semiperimeter__(): \n",
    "    This is a private method that calculate the semiperimeter of the triangle\n",
    "    This will create an attribute semiperimeter\n",
    "    \n",
    "    herons_area() :\n",
    "    This is a method that calculate the area of triangle using Heron's formula\n",
    "    Returns : float\n",
    "    \"\"\"\n",
    "    def __init__(self,*args):\n",
    "        super(TriangleProperties,self).__init__(*args)\n",
    "        self.__semiperimeter__()\n",
    "    def __semiperimeter__(self):\n",
    "        \"\"\"\n",
    "        This is a private method that calculate the semiperimeter of the triangle\n",
    "        This will create an attribute semiperimeter\n",
    "        \"\"\"\n",
    "        self.semiperimeter = (self.a+self.b+self.c)/2\n",
    "    def herons_area(self):\n",
    "        \"\"\"\n",
    "        This is a method that calculate the area of triangle using Heron's formula\n",
    "        Returns : float\n",
    "        \"\"\"\n",
    "        return (self.semiperimeter*(self.semiperimeter-self.a)*(self.semiperimeter-self.b)*(self.semiperimeter-self.c))** 0.5\n",
    "        \n",
    "    def __str__(self):\n",
    "        return super(TriangleProperties, self).__str__() + \"\"\".This is a utility class that provides methods to calculate various properties of triangle\"\"\"\n",
    "    "
   ]
  },
  {
   "cell_type": "code",
   "execution_count": 98,
   "metadata": {},
   "outputs": [
    {
     "name": "stdout",
     "output_type": "stream",
     "text": [
      "Area of triangle is 420.599572 square units\n"
     ]
    }
   ],
   "source": [
    "a = TriangleProperties(45,25,34)\n",
    "area = a.herons_area()\n",
    "print(\"Area of triangle is %f square units\"%area)"
   ]
  },
  {
   "cell_type": "markdown",
   "metadata": {},
   "source": [
    "### 1.2 Write a function filter_long_words() that takes a list of words and an integer n and returns the list of words that are longer than n."
   ]
  },
  {
   "cell_type": "code",
   "execution_count": 10,
   "metadata": {},
   "outputs": [],
   "source": [
    "def filter_long_words(list_of_words,threshold=1):\n",
    "    \"\"\"\n",
    "    filter_long_words : Method that takes a list of words \n",
    "    and an integer n and returns a list of words that are longer than n\n",
    "    \n",
    "    Arguments\n",
    "    ---------\n",
    "    list_of_words: list of strings\n",
    "    threshold    : int\n",
    "    \n",
    "    Returns - list\n",
    "    \"\"\"\n",
    "    \n",
    "    if isinstance(list_of_words,list):\n",
    "        return list((filter(lambda x: len(x) > threshold ,list_of_words)))\n",
    "    else:\n",
    "        return None"
   ]
  },
  {
   "cell_type": "code",
   "execution_count": 13,
   "metadata": {},
   "outputs": [
    {
     "data": {
      "text/plain": [
       "['takes', 'words', 'returns']"
      ]
     },
     "execution_count": 13,
     "metadata": {},
     "output_type": "execute_result"
    }
   ],
   "source": [
    "filter_long_words([\"takes\",\"a\",\"list\",\"words\",\"and\",\"returns\"],threshold = 4)"
   ]
  },
  {
   "cell_type": "markdown",
   "metadata": {},
   "source": [
    "### 2.1 Write a Python program using function concept that maps list of words into a list of integers representing the lengths of the corresponding words.\n",
    "#### Hint: If a list [ ab,cde,erty] is passed on to the python function output should come as [2,3,4]\n",
    "#### Here 2,3 and 4 are the lengths of the words in the list."
   ]
  },
  {
   "cell_type": "code",
   "execution_count": 14,
   "metadata": {},
   "outputs": [],
   "source": [
    "def map_list_words(alist):\n",
    "    \"\"\"\n",
    "    Take a list of strings and returns a list with the lengths of words in the string\n",
    "    \n",
    "    Arguments\n",
    "    ---------\n",
    "    alist = list of strings\n",
    "    \n",
    "    Returns\n",
    "    -------\n",
    "    list\n",
    "    \"\"\"\n",
    "    return [len(x) for x in alist]\n",
    "    "
   ]
  },
  {
   "cell_type": "code",
   "execution_count": 15,
   "metadata": {},
   "outputs": [
    {
     "data": {
      "text/plain": [
       "[5, 1, 4, 5, 3, 7]"
      ]
     },
     "execution_count": 15,
     "metadata": {},
     "output_type": "execute_result"
    }
   ],
   "source": [
    "map_list_words([\"takes\",\"a\",\"list\",\"words\",\"and\",\"returns\"])"
   ]
  },
  {
   "cell_type": "markdown",
   "metadata": {},
   "source": [
    "### 2.2 Write a Python function which takes a character (i.e. a string of length 1) and returns True if\n",
    "### it is a vowel, False otherwise."
   ]
  },
  {
   "cell_type": "code",
   "execution_count": 35,
   "metadata": {},
   "outputs": [],
   "source": [
    "def is_vowel(acharacter):\n",
    "    \"\"\"\n",
    "    Takes a character (i.e. a string of length 1) and returns True if\n",
    "    it is a vowel, False otherwise.\n",
    "    \n",
    "    Attributes\n",
    "    ----------\n",
    "    acharacter - string\n",
    "    \n",
    "    Returns\n",
    "    -------\n",
    "    True/False\n",
    "    \n",
    "    \"\"\"\n",
    "    \n",
    "    #Define vowels\n",
    "    \n",
    "    vowels = set(['a','e','i','o','u'])\n",
    "    if isinstance(acharacter,str) and len(acharacter) == 1:\n",
    "        return True if acharacter in vowels else False         \n",
    "    else:\n",
    "        print(\"Invalid argument\")"
   ]
  },
  {
   "cell_type": "code",
   "execution_count": 19,
   "metadata": {},
   "outputs": [
    {
     "name": "stdout",
     "output_type": "stream",
     "text": [
      "Invalid argument\n"
     ]
    }
   ],
   "source": [
    "is_vowel([\"takes\",\"a\",\"list\",\"words\",\"and\",\"returns\"])"
   ]
  },
  {
   "cell_type": "code",
   "execution_count": 20,
   "metadata": {},
   "outputs": [
    {
     "name": "stdout",
     "output_type": "stream",
     "text": [
      "Invalid argument\n"
     ]
    }
   ],
   "source": [
    "is_vowel(1)"
   ]
  },
  {
   "cell_type": "code",
   "execution_count": 26,
   "metadata": {},
   "outputs": [
    {
     "name": "stdout",
     "output_type": "stream",
     "text": [
      "Invalid argument\n"
     ]
    }
   ],
   "source": [
    "is_vowel('python')"
   ]
  },
  {
   "cell_type": "code",
   "execution_count": 33,
   "metadata": {},
   "outputs": [
    {
     "data": {
      "text/plain": [
       "True"
      ]
     },
     "execution_count": 33,
     "metadata": {},
     "output_type": "execute_result"
    }
   ],
   "source": [
    "is_vowel('a')"
   ]
  },
  {
   "cell_type": "code",
   "execution_count": 34,
   "metadata": {},
   "outputs": [
    {
     "data": {
      "text/plain": [
       "False"
      ]
     },
     "execution_count": 34,
     "metadata": {},
     "output_type": "execute_result"
    }
   ],
   "source": [
    "is_vowel('b')"
   ]
  },
  {
   "cell_type": "code",
   "execution_count": null,
   "metadata": {},
   "outputs": [],
   "source": []
  }
 ],
 "metadata": {
  "kernelspec": {
   "display_name": "Python 3",
   "language": "python",
   "name": "python3"
  },
  "language_info": {
   "codemirror_mode": {
    "name": "ipython",
    "version": 3
   },
   "file_extension": ".py",
   "mimetype": "text/x-python",
   "name": "python",
   "nbconvert_exporter": "python",
   "pygments_lexer": "ipython3",
   "version": "3.7.1"
  }
 },
 "nbformat": 4,
 "nbformat_minor": 2
}
