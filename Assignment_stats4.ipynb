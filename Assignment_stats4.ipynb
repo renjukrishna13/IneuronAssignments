{
 "cells": [
  {
   "cell_type": "code",
   "execution_count": 1,
   "metadata": {},
   "outputs": [],
   "source": [
    "import scipy.stats as st\n",
    "import numpy as np\n",
    "import pandas as pd"
   ]
  },
  {
   "attachments": {
    "image.png": {
     "image/png": "[encoded data removed]"
    }
   },
   "cell_type": "markdown",
   "metadata": {},
   "source": [
    "#### Problem Statement 1:\n",
    "\n",
    "Is gender independent of education level? A random sample of 395 people were\n",
    "surveyed and each person was asked to report the highest education level they\n",
    "obtained. The data that resulted from the survey is summarized in the following table:\n",
    "\n",
    "![image.png](attachment:image.png)\n",
    "\n",
    "Question: Are gender and education level dependent at 5% level of significance? In\n",
    "other words, given the data collected above, is there a relationship between the\n",
    "gender of an individual and the level of education that they have obtained?"
   ]
  },
  {
   "cell_type": "markdown",
   "metadata": {},
   "source": [
    "#### Hypothesis:\n",
    "\n",
    "H0: Gender and education level are independent\n",
    "\n",
    "H1 : Gender and education level are dependent"
   ]
  },
  {
   "cell_type": "code",
   "execution_count": 4,
   "metadata": {},
   "outputs": [
    {
     "name": "stdout",
     "output_type": "stream",
     "text": [
      "Null Hypothesis is rejected(Gender and education level are dependent.)\n"
     ]
    }
   ],
   "source": [
    "#We use chi-square test for independence with the help of the above data.\n",
    "alpha=0.05\n",
    "chi2,p,dof,expected=st.chi2_contingency([[60,54,46,41],[40,44,53,57]])\n",
    "\n",
    "if p<alpha:\n",
    "    print(\"Null Hypothesis is rejected(Gender and education level are dependent.)\")\n",
    "else:\n",
    "    print('Null Hypothesis is accepted(Gender and education level are independent.)')"
   ]
  },
  {
   "cell_type": "markdown",
   "metadata": {},
   "source": [
    "#### Problem Statement 2:\n",
    "\n",
    "Using the following data, perform a oneway analysis of variance using α=.05. Write\n",
    "up the results in APA format.\n",
    "\n",
    "[Group1: 51, 45, 33, 45, 67]\n",
    "[Group2: 23, 43, 23, 43, 45]\n",
    "[Group3: 56, 76, 74, 87, 56]"
   ]
  },
  {
   "cell_type": "code",
   "execution_count": 5,
   "metadata": {},
   "outputs": [
    {
     "name": "stdout",
     "output_type": "stream",
     "text": [
      "F-value is : 9.747205503009463\n",
      "p-value is : 0.0030597541434430556\n",
      "Null Hypothesis is rejected(mean1!=mean2!=mean3)\n"
     ]
    }
   ],
   "source": [
    "alpha=0.05\n",
    "group1=[51, 45, 33, 45, 67]\n",
    "group2=[23, 43, 23, 43, 45]\n",
    "group3=[56, 76, 74, 87, 56]\n",
    "\n",
    "\n",
    "### ANOVA using scipy function\n",
    "\n",
    "f,p=st.f_oneway(group1,group2,group3)\n",
    "print(\"F-value is :\",f)\n",
    "print(\"p-value is :\",p)\n",
    "if p<alpha:\n",
    "    print(\"Null Hypothesis is rejected(mean1!=mean2!=mean3)\")\n",
    "else:\n",
    "    print(\"Null Hypothesis is accepted(mean1=mean2=mean3)\")"
   ]
  },
  {
   "cell_type": "code",
   "execution_count": 13,
   "metadata": {},
   "outputs": [
    {
     "name": "stdout",
     "output_type": "stream",
     "text": [
      "F-value is : 9.747205503009457\n",
      "p-value is : 0.003059754143443061\n",
      "Null Hypothesis is rejected(mean1!=mean2!=mean3)\n"
     ]
    }
   ],
   "source": [
    "#one-way ANOVA from scratch\n",
    "grand_mean=np.mean([np.mean(group1),np.mean(group2),np.mean(group3)])\n",
    "dev_g1 = np.sum([(i-np.mean(group1))**2 for i in group1])\n",
    "dev_g2 = np.sum([(i-np.mean(group2))**2 for i in group2])\n",
    "dev_g3 = np.sum([(i-np.mean(group3))**2 for i in group3])\n",
    "\n",
    "##Sum of squares within the samples\n",
    "ssw=np.sum([dev_g1,dev_g2,dev_g3])\n",
    "ssw_mean = ssw/12\n",
    "\n",
    "##Sum of squares betweenthe samples\n",
    "\n",
    "ssb=np.sum([(np.mean(group1)-grand_mean)**2,(np.mean(group2)-grand_mean)**2,(np.mean(group3)-grand_mean)**2])*5\n",
    "ssb_mean = ssb/2\n",
    "f=ssb_mean/ssw_mean\n",
    "p=1-st.f.cdf(f,dfn=2,dfd=12)\n",
    "print(\"F-value is :\",f)\n",
    "print(\"p-value is :\",p)\n",
    "if p<alpha:\n",
    "    print(\"Null Hypothesis is rejected(mean1!=mean2!=mean3)\")\n",
    "else:\n",
    "    print(\"Null Hypothesis is accepted(mean1=mean2=mean3)\")"
   ]
  },
  {
   "cell_type": "markdown",
   "metadata": {},
   "source": [
    "#### Problem Statement 3:\n",
    "\n",
    "Calculate F Test for given 10, 20, 30, 40, 50 and 5,10,15, 20, 25.\n",
    "For 10, 20, 30, 40, 50:"
   ]
  },
  {
   "cell_type": "code",
   "execution_count": 14,
   "metadata": {},
   "outputs": [
    {
     "name": "stdout",
     "output_type": "stream",
     "text": [
      "F-value is : 3.6\n",
      "p-value is : 0.0943497728424377\n"
     ]
    }
   ],
   "source": [
    "s1=[10,20,30,40,50]\n",
    "s2=[5,10,15,20,25]\n",
    "f,p=st.f_oneway(s1,s2)\n",
    "print(\"F-value is :\",f)\n",
    "print(\"p-value is :\",p)"
   ]
  },
  {
   "cell_type": "code",
   "execution_count": null,
   "metadata": {},
   "outputs": [],
   "source": []
  }
 ],
 "metadata": {
  "kernelspec": {
   "display_name": "Python 3",
   "language": "python",
   "name": "python3"
  },
  "language_info": {
   "codemirror_mode": {
    "name": "ipython",
    "version": 3
   },
   "file_extension": ".py",
   "mimetype": "text/x-python",
   "name": "python",
   "nbconvert_exporter": "python",
   "pygments_lexer": "ipython3",
   "version": "3.7.1"
  }
 },
 "nbformat": 4,
 "nbformat_minor": 2
}
