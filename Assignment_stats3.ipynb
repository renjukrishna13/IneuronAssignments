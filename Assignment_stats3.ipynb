{
 "cells": [
  {
   "cell_type": "code",
   "execution_count": 7,
   "metadata": {},
   "outputs": [],
   "source": [
    "import numpy as np\n",
    "from scipy import stats"
   ]
  },
  {
   "cell_type": "code",
   "execution_count": 4,
   "metadata": {},
   "outputs": [],
   "source": [
    "#sample error calculation\n",
    "def sample_error(std_dev,sample_size):\n",
    "    return (std_dev/np.sqrt(sample_size))"
   ]
  },
  {
   "cell_type": "code",
   "execution_count": 5,
   "metadata": {},
   "outputs": [],
   "source": [
    "#Z-score calculation\n",
    "def z_test(sample_mean,pop_mean,std_error):\n",
    "    return((sample_mean-pop_mean)/std_error)"
   ]
  },
  {
   "cell_type": "markdown",
   "metadata": {},
   "source": [
    "#### Problem Statement 1:\n",
    "\n",
    "Blood glucose levels for obese patients have a mean of 100 with a standard deviation of 15.A researcher thinks that a diet high in raw cornstarch will have a positive effect on blood glucose levels. A sample of 36 patients who have tried the raw cornstarch diet have a mean glucose level of 108. Test the hypothesis that the raw cornstarch had an\n",
    "effect or not."
   ]
  },
  {
   "cell_type": "markdown",
   "metadata": {},
   "source": [
    "#### Hypothesis:\n",
    "\n",
    "H0: There is no effect on blood glucose levels(𝜇=100) \n",
    "H1: There is an effect on blood glucose levels(𝜇!=100)"
   ]
  },
  {
   "cell_type": "code",
   "execution_count": 11,
   "metadata": {},
   "outputs": [
    {
     "name": "stdout",
     "output_type": "stream",
     "text": [
      "Null hypothesis rejected ! 𝜇!=100; There is an effect on blood glucose levels\n"
     ]
    }
   ],
   "source": [
    "pop_mean = 100\n",
    "std = 15\n",
    "\n",
    "sample_size = 36\n",
    "sample_mean = 108\n",
    "\n",
    "alpha = 0.05\n",
    "sample_err = sample_error(std,sample_size)\n",
    "z_score = z_test(sample_mean,pop_mean,sample_err)\n",
    "\n",
    "#calculating critical value /p-value \n",
    "p = 2*(1-(stats.norm.cdf(np.absolute(z_score))))  ##Since its a two tailed test\n",
    "if p < alpha :\n",
    "    print(\"Null hypothesis rejected ! 𝜇!=100; There is an effect on blood glucose levels\")\n",
    "else:\n",
    "    print(\"Null hypothesis accepted ! 𝜇=100; There is no effect on blood glucose levels\")"
   ]
  },
  {
   "cell_type": "markdown",
   "metadata": {},
   "source": [
    "#### Problem Statement 2:\n",
    "\n",
    "In one state, 52% of the voters are Republicans, and 48% are Democrats. In a second\n",
    "state, 47% of the voters are Republicans, and 53% are Democrats. Suppose a simple\n",
    "random sample of 100 voters are surveyed from each state.\n",
    "What is the probability that the survey will show a greater percentage of Republican\n",
    "voters in the second state than in the first state?"
   ]
  },
  {
   "cell_type": "markdown",
   "metadata": {},
   "source": [
    "#### Hypothesis:\n",
    "\n",
    "H0: mean1(republicans of state 1) = mean2(republicans of state 2)\n",
    "H1: mean1 > mean2 (right tailed) or mean1 < mean2(Left tailed)\n",
    "     "
   ]
  },
  {
   "cell_type": "code",
   "execution_count": 17,
   "metadata": {},
   "outputs": [
    {
     "name": "stdout",
     "output_type": "stream",
     "text": [
      "Null hypothesis accepted ! mean1 == mean2\n",
      "The probability that the survey will show a greater percentage of Republican voters in the second state than in the first state is : 0.23946399182220013\n"
     ]
    }
   ],
   "source": [
    "# Here we need to look at republicans\n",
    "\n",
    "#Pop1 republicans \n",
    "p1 = 0.52\n",
    "n1 = 100\n",
    "\n",
    "#Pop2 republicans\n",
    "p2 = 0.47\n",
    "n2 = 100\n",
    "\n",
    "def z_test_pop_proportions(p1,p2,se):\n",
    "    return ((p1-p2)/se)\n",
    "def sample_error_pop_proportions(p1,p2,n1,n2):\n",
    "    return np.sqrt(((p1*(1-p1))/n1)+((p2*(1-p2))/n2))\n",
    "\n",
    "sample_error = sample_error_pop_proportions(p1,p2,100,100)\n",
    "z_score = z_test_pop_proportions(p1,p2,sample_error)\n",
    "\n",
    "p = stats.norm.cdf(np.absolute(z_score))\n",
    "alpha = 0.05\n",
    "\n",
    "if p < alpha :\n",
    "    print(\"Null hypothesis rejected ! mean1 > mean2 or mean1 < mean2\")\n",
    "else:\n",
    "    print(\"Null hypothesis accepted ! mean1 == mean2\")\n",
    "    \n",
    "    \n",
    "print(\"The probability that the survey will show a greater percentage of Republican voters in the second state than in the first state is :\",1-p)"
   ]
  },
  {
   "cell_type": "markdown",
   "metadata": {},
   "source": [
    "#### Problem Statement 3:\n",
    "\n",
    "You take the SAT and score 1100. The mean score for the SAT is 1026 and the standard\n",
    "deviation is 209. How well did you score on the test compared to the average test taker?"
   ]
  },
  {
   "cell_type": "code",
   "execution_count": 19,
   "metadata": {},
   "outputs": [
    {
     "name": "stdout",
     "output_type": "stream",
     "text": [
      "The z=score of the data is : 0.35406698564593303\n",
      "z-score indicates that my score is 0.35406698564593303 standard deviations away from the mean SAT score\n"
     ]
    }
   ],
   "source": [
    "sample_mean = 1100\n",
    "pop_mean = 1026\n",
    "std = 209\n",
    "\n",
    "z_score=(1100-1026)/209\n",
    "print(\"The z=score of the data is :\",z_score)\n",
    "print('z-score indicates that my score is {} standard deviations away from the mean SAT score'.format(z_score))"
   ]
  },
  {
   "cell_type": "code",
   "execution_count": null,
   "metadata": {},
   "outputs": [],
   "source": []
  }
 ],
 "metadata": {
  "kernelspec": {
   "display_name": "Python 3",
   "language": "python",
   "name": "python3"
  },
  "language_info": {
   "codemirror_mode": {
    "name": "ipython",
    "version": 3
   },
   "file_extension": ".py",
   "mimetype": "text/x-python",
   "name": "python",
   "nbconvert_exporter": "python",
   "pygments_lexer": "ipython3",
   "version": "3.7.1"
  }
 },
 "nbformat": 4,
 "nbformat_minor": 2
}
