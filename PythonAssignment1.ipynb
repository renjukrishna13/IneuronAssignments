{
 "cells": [
  {
   "cell_type": "markdown",
   "metadata": {},
   "source": [
    "## Assignment 1 "
   ]
  },
  {
   "cell_type": "markdown",
   "metadata": {},
   "source": [
    "### 1. Program to find all numbers which are divisible by 7 but are not a multiple of 5 ,between 2000 and 3200 (both included).Numbers should be printed in a comma seperated sequence i=on a single line.\n",
    "        "
   ]
  },
  {
   "cell_type": "code",
   "execution_count": 13,
   "metadata": {},
   "outputs": [
    {
     "name": "stdout",
     "output_type": "stream",
     "text": [
      "2002,2009,2016,2023,2037,2044,2051,2058,2072,2079,2086,2093,2107,2114,2121,2128,2142,2149,2156,2163,2177,2184,2191,2198,2212,2219,2226,2233,2247,2254,2261,2268,2282,2289,2296,2303,2317,2324,2331,2338,2352,2359,2366,2373,2387,2394,2401,2408,2422,2429,2436,2443,2457,2464,2471,2478,2492,2499,2506,2513,2527,2534,2541,2548,2562,2569,2576,2583,2597,2604,2611,2618,2632,2639,2646,2653,2667,2674,2681,2688,2702,2709,2716,2723,2737,2744,2751,2758,2772,2779,2786,2793,2807,2814,2821,2828,2842,2849,2856,2863,2877,2884,2891,2898,2912,2919,2926,2933,2947,2954,2961,2968,2982,2989,2996,3003,3017,3024,3031,3038,3052,3059,3066,3073,3087,3094,3101,3108,3122,3129,3136,3143,3157,3164,3171,3178,3192,3199\n"
     ]
    }
   ],
   "source": [
    "#Initializing a list to hold the numbers that pass the criteria\n",
    "mylist = []\n",
    "#Looping through the numbers\n",
    "for _ in range(2000,3201):\n",
    "    #Checking the conditions\n",
    "    if _ % 7 == 0 and _ % 5 != 0:\n",
    "        mylist.append(_)\n",
    "\n",
    "#Printing the answer\n",
    "print(*mylist , sep = \",\")"
   ]
  },
  {
   "cell_type": "markdown",
   "metadata": {},
   "source": [
    "### 2.Program to get user's first and last name and then printed in the reverse order with a space between the first and last names"
   ]
  },
  {
   "cell_type": "code",
   "execution_count": 22,
   "metadata": {},
   "outputs": [
    {
     "name": "stdout",
     "output_type": "stream",
     "text": [
      "ujneR anhsirK\n"
     ]
    }
   ],
   "source": [
    "#Variable holding the users input\n",
    "username = \"Renju Krishna\"\n",
    "\n",
    "#split the name\n",
    "first , last = username.split(\" \")\n",
    "#Printing it in required format\n",
    "print('{} {}'.format(first[::-1],last[::-1]))"
   ]
  },
  {
   "cell_type": "markdown",
   "metadata": {},
   "source": [
    "### 3. Program to find the volume of a sphere with diameter 12cm : Formula - V= 4/3*pi*r^3"
   ]
  },
  {
   "cell_type": "code",
   "execution_count": 26,
   "metadata": {},
   "outputs": [
    {
     "name": "stdout",
     "output_type": "stream",
     "text": [
      "Volume of the sphere with diameter 12.0 cm = 905.142857142857 cubic centimeters\n"
     ]
    }
   ],
   "source": [
    "#Specifying diameter\n",
    "diameter = 12.0\n",
    "#calculating radius\n",
    "radius = diameter/2\n",
    "#Defining pi value\n",
    "pi = 22.0/7\n",
    "\n",
    "#Calculating volumne\n",
    "volume = 4.0/3*pi*radius**3\n",
    "\n",
    "#Printing the answer\n",
    "print(\"Volume of the sphere with diameter {} cm = {} cubic centimeters\".format(diameter,volume))\n"
   ]
  },
  {
   "cell_type": "code",
   "execution_count": null,
   "metadata": {},
   "outputs": [],
   "source": []
  }
 ],
 "metadata": {
  "kernelspec": {
   "display_name": "Python 3",
   "language": "python",
   "name": "python3"
  },
  "language_info": {
   "codemirror_mode": {
    "name": "ipython",
    "version": 3
   },
   "file_extension": ".py",
   "mimetype": "text/x-python",
   "name": "python",
   "nbconvert_exporter": "python",
   "pygments_lexer": "ipython3",
   "version": "3.7.1"
  }
 },
 "nbformat": 4,
 "nbformat_minor": 2
}
