{
 "cells": [
  {
   "cell_type": "markdown",
   "metadata": {},
   "source": [
    "### 1. Write a function so that the columns of the output matrix are powers of the input vector.The order of the powers is determined by the increasing boolean argument. Specifically, when increasing is False, the i-th output column is the input vector raised element-wise to the power of N - i - 1.\n",
    "\n",
    "HINT: Such a matrix with a geometric progression in each row is named for Alexandre-\n",
    "Theophile Vandermonde."
   ]
  },
  {
   "cell_type": "code",
   "execution_count": 1,
   "metadata": {},
   "outputs": [],
   "source": [
    "import numpy as np"
   ]
  },
  {
   "cell_type": "code",
   "execution_count": 85,
   "metadata": {},
   "outputs": [],
   "source": [
    "def vandermonde(avector,n,increasing=True):\n",
    "    \"\"\"\n",
    "    This function populate a vandermonde matrix based on the input vector \n",
    "    and the number of columns in the output matrix specified.\n",
    "    \n",
    "    Arguments\n",
    "    ---------\n",
    "    avector = numpy.array , array of numbers int/float\n",
    "    n       = int , number of columns required in the output matrix\n",
    "    \"\"\"\n",
    "    print(\"\"\"Given vector:\"\"\",avector)\n",
    "    print(\"Total number of columns in the output matrix:\",n)\n",
    "    print(\"Increasing Vandemonde matrix:\",increasing)\n",
    "    \n",
    "    if increasing:\n",
    "        vandemonde_matrix = np.array([x**i for x in avector for i in range(n)]).reshape(avector.size,n)\n",
    "        print (vandemonde_matrix)\n",
    "    if not increasing:\n",
    "        vandemonde_matrix = np.array([x**(n-i-1) for x in avector for i in range(n)]).reshape(avector.size,n)\n",
    "        print (vandemonde_matrix)\n",
    "    "
   ]
  },
  {
   "cell_type": "code",
   "execution_count": 86,
   "metadata": {},
   "outputs": [],
   "source": [
    "a = np.array([1,2,3,4,5])"
   ]
  },
  {
   "cell_type": "code",
   "execution_count": 90,
   "metadata": {},
   "outputs": [
    {
     "name": "stdout",
     "output_type": "stream",
     "text": [
      "Given vector: [1 2 3 4 5]\n",
      "Total number of columns in the output matrix: 5\n",
      "Increasing Vande monde matrix: True\n",
      "[[  1   1   1   1   1]\n",
      " [  1   2   4   8  16]\n",
      " [  1   3   9  27  81]\n",
      " [  1   4  16  64 256]\n",
      " [  1   5  25 125 625]]\n"
     ]
    }
   ],
   "source": [
    "vandermonde(a,5,increasing=True)"
   ]
  },
  {
   "cell_type": "code",
   "execution_count": 91,
   "metadata": {},
   "outputs": [
    {
     "name": "stdout",
     "output_type": "stream",
     "text": [
      "Given vector: [1 2 3 4 5]\n",
      "Total number of columns in the output matrix: 5\n",
      "Increasing Vande monde matrix: False\n",
      "[[  1   1   1   1   1]\n",
      " [ 16   8   4   2   1]\n",
      " [ 81  27   9   3   1]\n",
      " [256  64  16   4   1]\n",
      " [625 125  25   5   1]]\n"
     ]
    }
   ],
   "source": [
    "vandermonde(a,5,increasing=False)       "
   ]
  },
  {
   "cell_type": "code",
   "execution_count": 93,
   "metadata": {},
   "outputs": [
    {
     "name": "stdout",
     "output_type": "stream",
     "text": [
      "Given vector: [ 1  2  4  6  8 10]\n",
      "Total number of columns in the output matrix: 3\n",
      "Increasing Vande monde matrix: False\n",
      "[[  1   1   1]\n",
      " [  4   2   1]\n",
      " [ 16   4   1]\n",
      " [ 36   6   1]\n",
      " [ 64   8   1]\n",
      " [100  10   1]]\n"
     ]
    }
   ],
   "source": [
    "b=np.array([1,2,4,6,8,10])\n",
    "vandermonde(b,3,increasing=False)   "
   ]
  },
  {
   "cell_type": "markdown",
   "metadata": {},
   "source": [
    "### 2. Given a sequence of n values x1, x2, ..., xn and a window size k>0, the k-th moving average of the given sequence is defined as follows: The moving average sequence has n-k+1 elements as shown below. The moving averages with k=4 of a ten-value sequence (n=10) is shown below\n",
    "### i 1 2 3 4 5 6 7 8 9 10\n",
    "### ===== == == == == == == == == == ==\n",
    "### Input 10 20 30 40 50 60 70 80 90 100\n",
    "### y1 25 = (10+20+30+40)/4\n",
    "### y2 35 = (20+30+40+50)/4\n",
    "### y3 45 = (30+40+50+60)/4\n",
    "### y4 55 = (40+50+60+70)/4\n",
    "### y5 65 = (50+60+70+80)/4\n",
    "### y6 75 = (60+70+80+90)/4\n",
    "### y7 85 = (70+80+90+100)/4\n",
    "### Thus, the moving average sequence has n-k+1=10-4+1=7 values.\n",
    "\n",
    "### Question: Write a function to find moving average in an array over a window:\n",
    "### Test it over [3, 5, 7, 2, 8, 10, 11, 65, 72, 81, 99, 100, 150] and window of 3."
   ]
  },
  {
   "cell_type": "code",
   "execution_count": 152,
   "metadata": {},
   "outputs": [],
   "source": [
    "def moving_average(anarray,window):\n",
    "    \"\"\"\n",
    "    This function will return an array of moving average values\n",
    "    \n",
    "    anarray - numpy.array\n",
    "    window - int\n",
    "    \"\"\"\n",
    "    \n",
    "    if window == 0:\n",
    "        return None\n",
    "    size = anarray.size\n",
    "    no_moving_average_values = size - window +1\n",
    "    print(\"Length of the input array:\",size)    \n",
    "    print(\"Number of moving average values for an array with size\",size,\"over a window of\",window,\"is\",no_moving_average_values)\n",
    "    moving_avgs = np.empty((no_moving_average_values))\n",
    "    for i in range(no_moving_average_values):\n",
    "        moving_avgs[i] = anarray[i:i+window].mean()\n",
    "    return moving_avgs"
   ]
  },
  {
   "cell_type": "code",
   "execution_count": 154,
   "metadata": {},
   "outputs": [
    {
     "name": "stdout",
     "output_type": "stream",
     "text": [
      "Length of the input array: 13\n",
      "Number of moving average values for an array with size 13 over a window of 3 is 11\n"
     ]
    },
    {
     "data": {
      "text/plain": [
       "array([  5.        ,   4.66666667,   5.66666667,   6.66666667,\n",
       "         9.66666667,  28.66666667,  49.33333333,  72.66666667,\n",
       "        84.        ,  93.33333333, 116.33333333])"
      ]
     },
     "execution_count": 154,
     "metadata": {},
     "output_type": "execute_result"
    }
   ],
   "source": [
    "test = np.array([3, 5, 7, 2, 8, 10, 11, 65, 72, 81, 99, 100, 150])\n",
    "output = moving_average(test,3)\n",
    "output"
   ]
  },
  {
   "cell_type": "code",
   "execution_count": null,
   "metadata": {},
   "outputs": [],
   "source": []
  }
 ],
 "metadata": {
  "kernelspec": {
   "display_name": "Python 3",
   "language": "python",
   "name": "python3"
  },
  "language_info": {
   "codemirror_mode": {
    "name": "ipython",
    "version": 3
   },
   "file_extension": ".py",
   "mimetype": "text/x-python",
   "name": "python",
   "nbconvert_exporter": "python",
   "pygments_lexer": "ipython3",
   "version": "3.7.1"
  }
 },
 "nbformat": 4,
 "nbformat_minor": 2
}
